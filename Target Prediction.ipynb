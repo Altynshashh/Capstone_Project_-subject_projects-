{
 "cells": [
  {
   "cell_type": "markdown",
   "metadata": {},
   "source": [
    "### \"Maximum-Golden-Cookie\" Members:\n",
    "* Maxat Dair\n",
    "* Kuanysh Kassymbayev\n",
    "* Altynshash Daniyarova\n",
    "\n",
    "### Group: BDA-1904"
   ]
  },
  {
   "cell_type": "markdown",
   "metadata": {},
   "source": [
    "# Topic: Target Prediction\n",
    "### Regression task"
   ]
  },
  {
   "cell_type": "markdown",
   "metadata": {},
   "source": [
    "### Content\n",
    "\n",
    "<font color='black'>\n",
    "    \n",
    "*  [Introduction ](#intro)\n",
    "* [Data description](#data)\n",
    "* [Outliers Detection](#od)\n",
    "* [Exploratory Data Analysis (EDA)](#eda)\n",
    "* [Apply boxcox transformation](#abt)\n",
    "* [Correlation](#corr)\n",
    "* [Data Cleaning](#dc)\n",
    "* [Handling Missing Values](#hmv)\n",
    "* [Apply Machine Learning Model](#aml)\n",
    "* [Conclusion](#con)\n",
    "* [Reference](#ref)"
   ]
  },
  {
   "cell_type": "markdown",
   "metadata": {},
   "source": [
    "<a id=\"intro\"></a>\n",
    "## 1. Introduction"
   ]
  },
  {
   "cell_type": "markdown",
   "metadata": {},
   "source": [
    "Our task is to build a model that will predict value for the variable - Target (numerical), i.e. it is a regression problem. \n",
    "\n",
    "Use 'train.csv' file for training your model/models.\n",
    "\n",
    "Predict the Target variable for the test dataset in 'test.csv' file.\n",
    "\n",
    "Note that you don't have access to Target variable in the test dataset.\n",
    "\n",
    "Evaluation of models should be done based on the following metric: MSE - mean squared error."
   ]
  },
  {
   "cell_type": "markdown",
   "metadata": {},
   "source": [
    "<a id=\"data\"></a>\n",
    "## 2. Data description"
   ]
  },
  {
   "cell_type": "markdown",
   "metadata": {},
   "source": [
    "Dataset:\n",
    "\n",
    "train.csv - the training set\n",
    "\n",
    "test.csv - the test set\n",
    "\n",
    "Data fields:\n",
    "\n",
    "Id - an anonymous id unique to a (an any) given object\n",
    "N1, N3, N4, N5, N6 - columns with float64 datatype\n",
    "N2, C1 - columns with int64 datatype \n",
    "\n",
    "Target - prediction column"
   ]
  },
  {
   "cell_type": "markdown",
   "metadata": {},
   "source": [
    "<a id=\"pre\"></a>\n",
    "## 3. Data importing"
   ]
  },
  {
   "cell_type": "markdown",
   "metadata": {},
   "source": [
    "On this stage we import all the necessary libraries and modules."
   ]
  },
  {
   "cell_type": "code",
   "execution_count": 3,
   "metadata": {},
   "outputs": [
    {
     "ename": "ModuleNotFoundError",
     "evalue": "No module named 'keras'",
     "output_type": "error",
     "traceback": [
      "\u001b[1;31m---------------------------------------------------------------------------\u001b[0m",
      "\u001b[1;31mModuleNotFoundError\u001b[0m                       Traceback (most recent call last)",
      "\u001b[1;32m<ipython-input-3-b92eaf7a4de6>\u001b[0m in \u001b[0;36m<module>\u001b[1;34m\u001b[0m\n\u001b[1;32m----> 1\u001b[1;33m \u001b[1;32mfrom\u001b[0m \u001b[0mkeras\u001b[0m\u001b[1;33m.\u001b[0m\u001b[0moptimizers\u001b[0m \u001b[1;32mimport\u001b[0m \u001b[0mSGD\u001b[0m\u001b[1;33m\u001b[0m\u001b[1;33m\u001b[0m\u001b[0m\n\u001b[0m\u001b[0;32m      2\u001b[0m \u001b[1;32mimport\u001b[0m \u001b[0mpandas\u001b[0m \u001b[1;32mas\u001b[0m \u001b[0mpd\u001b[0m\u001b[1;33m\u001b[0m\u001b[1;33m\u001b[0m\u001b[0m\n\u001b[0;32m      3\u001b[0m \u001b[1;32mimport\u001b[0m \u001b[0mnumpy\u001b[0m \u001b[1;32mas\u001b[0m \u001b[0mnp\u001b[0m\u001b[1;33m\u001b[0m\u001b[1;33m\u001b[0m\u001b[0m\n\u001b[0;32m      4\u001b[0m \u001b[1;32mimport\u001b[0m \u001b[0mmatplotlib\u001b[0m\u001b[1;33m.\u001b[0m\u001b[0mpyplot\u001b[0m \u001b[1;32mas\u001b[0m \u001b[0mplt\u001b[0m\u001b[1;33m\u001b[0m\u001b[1;33m\u001b[0m\u001b[0m\n\u001b[0;32m      5\u001b[0m \u001b[1;32mimport\u001b[0m \u001b[0mseaborn\u001b[0m \u001b[1;32mas\u001b[0m \u001b[0msns\u001b[0m\u001b[1;33m\u001b[0m\u001b[1;33m\u001b[0m\u001b[0m\n",
      "\u001b[1;31mModuleNotFoundError\u001b[0m: No module named 'keras'"
     ]
    }
   ],
   "source": [
    "from keras.optimizers import SGD\n",
    "import pandas as pd\n",
    "import numpy as np\n",
    "import matplotlib.pyplot as plt\n",
    "import seaborn as sns\n",
    "import sklearn as sk\n",
    "from sklearn.model_selection import train_test_split\n",
    "from sklearn.preprocessing import MinMaxScaler, Normalizer\n",
    "from sklearn.decomposition import PCA as sklearnPCA\n",
    "from sklearn.utils import resample\n",
    "from sklearn.neighbors import LocalOutlierFactor\n",
    "from numpy import mean\n",
    "from sklearn.datasets import make_classification\n",
    "from sklearn.model_selection import cross_val_score\n",
    "from sklearn.model_selection import RepeatedStratifiedKFold\n",
    "from sklearn.tree import DecisionTreeClassifier\n",
    "from imblearn.pipeline import Pipeline\n",
    "from imblearn.over_sampling import RandomOverSampler\n",
    "from collections import Counter\n",
    "from sklearn.datasets import make_classification\n",
    "from imblearn.under_sampling import RandomUnderSampler\n",
    "import matplotlib.pyplot as plt \n",
    "import seaborn as sns \n",
    "from scipy import stats\n",
    "from scipy.stats import norm, skew\n",
    "import numpy as np \n",
    "import pandas as pd\n",
    "import seaborn as sns\n",
    "import matplotlib.pyplot as plt\n",
    "from sklearn.ensemble import RandomForestRegressor\n",
    "from sklearn.metrics import mean_absolute_error\n",
    "import xgboost as XGB\n",
    "from sklearn.model_selection import train_test_split\n",
    "from scipy import stats\n",
    "from scipy.stats import norm, skew\n",
    "import warnings\n",
    "warnings.filterwarnings(\"ignore\")\n",
    "\n",
    "# Supress unnecessary warnings so that presentation looks clean\n",
    "import warnings\n",
    "warnings.filterwarnings(\"ignore\")"
   ]
  },
  {
   "cell_type": "code",
   "execution_count": 1,
   "metadata": {},
   "outputs": [
    {
     "ename": "NameError",
     "evalue": "name 'pd' is not defined",
     "output_type": "error",
     "traceback": [
      "\u001b[1;31m---------------------------------------------------------------------------\u001b[0m",
      "\u001b[1;31mNameError\u001b[0m                                 Traceback (most recent call last)",
      "\u001b[1;32m<ipython-input-1-9405450426bd>\u001b[0m in \u001b[0;36m<module>\u001b[1;34m\u001b[0m\n\u001b[0;32m      1\u001b[0m \u001b[1;31m# Read our datasets\u001b[0m\u001b[1;33m\u001b[0m\u001b[1;33m\u001b[0m\u001b[1;33m\u001b[0m\u001b[0m\n\u001b[1;32m----> 2\u001b[1;33m \u001b[0mX\u001b[0m \u001b[1;33m=\u001b[0m \u001b[0mpd\u001b[0m\u001b[1;33m.\u001b[0m\u001b[0mread_csv\u001b[0m\u001b[1;33m(\u001b[0m\u001b[1;34m'train.csv'\u001b[0m\u001b[1;33m)\u001b[0m\u001b[1;33m\u001b[0m\u001b[1;33m\u001b[0m\u001b[0m\n\u001b[0m\u001b[0;32m      3\u001b[0m \u001b[0mtest\u001b[0m \u001b[1;33m=\u001b[0m \u001b[0mpd\u001b[0m\u001b[1;33m.\u001b[0m\u001b[0mread_csv\u001b[0m\u001b[1;33m(\u001b[0m\u001b[1;34m'test.csv'\u001b[0m\u001b[1;33m)\u001b[0m\u001b[1;33m\u001b[0m\u001b[1;33m\u001b[0m\u001b[0m\n\u001b[0;32m      4\u001b[0m \u001b[0my\u001b[0m\u001b[1;33m=\u001b[0m\u001b[0mX\u001b[0m\u001b[1;33m.\u001b[0m\u001b[0mTarget\u001b[0m\u001b[1;33m\u001b[0m\u001b[1;33m\u001b[0m\u001b[0m\n\u001b[0;32m      5\u001b[0m \u001b[0mX\u001b[0m\u001b[1;33m.\u001b[0m\u001b[0mhead\u001b[0m\u001b[1;33m(\u001b[0m\u001b[1;33m)\u001b[0m\u001b[1;33m\u001b[0m\u001b[1;33m\u001b[0m\u001b[0m\n",
      "\u001b[1;31mNameError\u001b[0m: name 'pd' is not defined"
     ]
    }
   ],
   "source": [
    "# Read our datasets\n",
    "X = pd.read_csv('train.csv') \n",
    "test = pd.read_csv('test.csv')\n",
    "y=X.Target\n",
    "X.head() "
   ]
  },
  {
   "cell_type": "code",
   "execution_count": 3,
   "metadata": {
    "scrolled": true
   },
   "outputs": [
    {
     "name": "stdout",
     "output_type": "stream",
     "text": [
      "<class 'pandas.core.frame.DataFrame'>\n",
      "RangeIndex: 5000 entries, 0 to 4999\n",
      "Data columns (total 17 columns):\n",
      " #   Column  Non-Null Count  Dtype  \n",
      "---  ------  --------------  -----  \n",
      " 0   Id      5000 non-null   int64  \n",
      " 1   Target  5000 non-null   int64  \n",
      " 2   N1      5000 non-null   float64\n",
      " 3   N2      5000 non-null   int64  \n",
      " 4   N3      5000 non-null   float64\n",
      " 5   N4      4995 non-null   float64\n",
      " 6   N5      4995 non-null   float64\n",
      " 7   N6      4994 non-null   float64\n",
      " 8   C1      5000 non-null   int64  \n",
      " 9   C2      5000 non-null   object \n",
      " 10  C3      5000 non-null   object \n",
      " 11  C4      5000 non-null   object \n",
      " 12  C5      5000 non-null   object \n",
      " 13  C6      5000 non-null   object \n",
      " 14  C7      4999 non-null   object \n",
      " 15  C8      4999 non-null   object \n",
      " 16  C9      4999 non-null   object \n",
      "dtypes: float64(5), int64(4), object(8)\n",
      "memory usage: 664.2+ KB\n"
     ]
    }
   ],
   "source": [
    "X.info()"
   ]
  },
  {
   "cell_type": "markdown",
   "metadata": {},
   "source": [
    "<a id=\"pre\"></a>\n",
    "## 4. Outliers Detection"
   ]
  },
  {
   "cell_type": "markdown",
   "metadata": {},
   "source": [
    "There are many way to detect outlier but here we use z-score for detect outliers. The Z-score is the signed number of standard deviations by which the value of an observation or data point is above the mean value of what is being observed or measured.."
   ]
  },
  {
   "cell_type": "code",
   "execution_count": 4,
   "metadata": {
    "scrolled": false
   },
   "outputs": [
    {
     "name": "stdout",
     "output_type": "stream",
     "text": [
      "(array([   2,   31,   31,   64,  114,  163,  163,  207,  300,  300,  322,\n",
      "        322,  353,  353,  393,  393,  393,  398,  403,  403,  447,  537,\n",
      "        544,  560,  560,  560,  582,  652,  652,  652,  657,  657,  713,\n",
      "        759,  759,  836,  848,  869,  869,  946,  982,  982, 1030, 1030,\n",
      "       1030, 1105, 1145, 1145, 1162, 1162, 1162, 1167, 1238, 1292, 1292,\n",
      "       1299, 1299, 1299, 1303, 1303, 1303, 1310, 1315, 1366, 1372, 1380,\n",
      "       1380, 1419, 1508, 1525, 1525, 1527, 1547, 1613, 1628, 1628, 1628,\n",
      "       1646, 1646, 1646, 1647, 1667, 1678, 1678, 1678, 1765, 1765, 1775,\n",
      "       1775, 1775, 1779, 1779, 1830, 1848, 1851, 1870, 1909, 1909, 1995,\n",
      "       1995, 1995, 2002, 2008, 2008, 2025, 2036, 2038, 2072, 2072, 2100,\n",
      "       2174, 2174, 2174, 2179, 2195, 2195, 2195, 2244, 2254, 2254, 2337,\n",
      "       2365, 2365, 2365, 2367, 2374, 2379, 2379, 2379, 2414, 2414, 2442,\n",
      "       2442, 2515, 2515, 2550, 2550, 2559, 2568, 2607, 2607, 2682, 2682,\n",
      "       2696, 2696, 2736, 2736, 2746, 2746, 2775, 2775, 2861, 2861, 2861,\n",
      "       2869, 2878, 2878, 2898, 2898, 2898, 2915, 2915, 2915, 2917, 2991,\n",
      "       2991, 3057, 3057, 3100, 3100, 3134, 3134, 3174, 3211, 3211, 3218,\n",
      "       3218, 3218, 3236, 3253, 3301, 3362, 3505, 3505, 3505, 3512, 3521,\n",
      "       3521, 3572, 3572, 3584, 3584, 3599, 3629, 3629, 3640, 3640, 3655,\n",
      "       3655, 3655, 3743, 3743, 3786, 3786, 3786, 3841, 3845, 3845, 3851,\n",
      "       3865, 3865, 3875, 3904, 3904, 3904, 3910, 3910, 3910, 3913, 3942,\n",
      "       3942, 3984, 3984, 3986, 3986, 3997, 3997, 3997, 4071, 4071, 4149,\n",
      "       4178, 4249, 4249, 4276, 4276, 4276, 4347, 4347, 4448, 4448, 4448,\n",
      "       4463, 4463, 4463, 4465, 4465, 4474, 4509, 4509, 4530, 4557, 4584,\n",
      "       4618, 4618, 4639, 4639, 4639, 4646, 4646, 4712, 4712, 4712, 4754,\n",
      "       4754, 4823, 4823, 4840, 4840, 4854, 4899, 4930, 4972, 4972, 4972,\n",
      "       4977, 4977], dtype=int64), array([1, 1, 2, 4, 4, 1, 2, 4, 1, 4, 1, 2, 1, 2, 1, 2, 4, 2, 1, 2, 1, 2,\n",
      "       4, 1, 2, 4, 4, 1, 2, 4, 1, 2, 1, 1, 2, 2, 4, 1, 2, 4, 1, 2, 1, 2,\n",
      "       4, 4, 1, 2, 1, 2, 4, 4, 4, 1, 2, 1, 2, 4, 1, 2, 4, 1, 2, 1, 4, 1,\n",
      "       2, 2, 4, 1, 4, 4, 1, 4, 1, 2, 4, 1, 2, 4, 4, 4, 1, 2, 4, 1, 2, 1,\n",
      "       2, 4, 1, 2, 4, 1, 4, 4, 1, 2, 1, 2, 4, 4, 1, 2, 1, 2, 4, 1, 2, 4,\n",
      "       1, 2, 4, 2, 1, 2, 4, 4, 1, 2, 1, 1, 2, 4, 4, 4, 1, 2, 4, 1, 2, 1,\n",
      "       2, 1, 2, 1, 2, 4, 4, 1, 2, 1, 2, 1, 2, 2, 4, 2, 4, 1, 2, 1, 2, 4,\n",
      "       4, 1, 2, 1, 2, 4, 1, 2, 4, 4, 1, 2, 1, 2, 1, 2, 1, 2, 4, 1, 2, 1,\n",
      "       2, 4, 4, 4, 4, 2, 1, 2, 4, 1, 1, 4, 1, 2, 1, 2, 4, 1, 2, 1, 2, 1,\n",
      "       2, 4, 1, 2, 1, 2, 4, 4, 1, 2, 2, 1, 2, 4, 1, 2, 4, 1, 2, 4, 4, 1,\n",
      "       2, 1, 2, 1, 2, 1, 2, 4, 1, 2, 4, 4, 1, 2, 1, 2, 4, 1, 2, 1, 2, 4,\n",
      "       1, 2, 4, 1, 2, 4, 1, 2, 4, 4, 4, 1, 2, 1, 2, 4, 1, 2, 1, 2, 4, 1,\n",
      "       2, 1, 2, 1, 2, 4, 4, 4, 1, 2, 4, 2, 4], dtype=int64))\n"
     ]
    }
   ],
   "source": [
    "numeric_cols = [col for col in X.columns if X[col].dtype in ['int64','float64']]\n",
    "z = np.abs(stats.zscore(X[numeric_cols]))\n",
    "threshold = 3\n",
    "print(np.where(z > 3))"
   ]
  },
  {
   "cell_type": "code",
   "execution_count": 5,
   "metadata": {},
   "outputs": [
    {
     "name": "stdout",
     "output_type": "stream",
     "text": [
      "3.5167925862990774\n"
     ]
    }
   ],
   "source": [
    "print(z[31][2])"
   ]
  },
  {
   "cell_type": "markdown",
   "metadata": {},
   "source": [
    "Here 1st array indicate column and 2nd array indicate row. if we print z[31][2] then output will be 3.51 that's means all value greater then 3.Z>3 consider outliers."
   ]
  },
  {
   "cell_type": "markdown",
   "metadata": {},
   "source": [
    "<a id=\"eda\"></a>\n",
    "## 5.  Exploratory Data Analysis (EDA)"
   ]
  },
  {
   "cell_type": "code",
   "execution_count": 6,
   "metadata": {
    "scrolled": false
   },
   "outputs": [
    {
     "data": {
      "text/plain": [
       "<seaborn.axisgrid.FacetGrid at 0x2dbecdb49a0>"
      ]
     },
     "execution_count": 6,
     "metadata": {},
     "output_type": "execute_result"
    },
    {
     "data": {
      "image/png": "[encoded data removed]",
      "text/plain": [
       "<Figure size 360x360 with 1 Axes>"
      ]
     },
     "metadata": {
      "needs_background": "light"
     },
     "output_type": "display_data"
    }
   ],
   "source": [
    "sns.displot(X, x=y, kind=\"kde\")"
   ]
  },
  {
   "cell_type": "markdown",
   "metadata": {},
   "source": [
    "##### We see that it's positive sekew we must need to fixed it so let's do this using boxcox transformation."
   ]
  },
  {
   "cell_type": "markdown",
   "metadata": {},
   "source": [
    "## Feature engineering"
   ]
  },
  {
   "cell_type": "markdown",
   "metadata": {},
   "source": [
    "<a id=\"abt\"></a>\n",
    "## 6. Apply boxcox transformation"
   ]
  },
  {
   "cell_type": "markdown",
   "metadata": {},
   "source": [
    "Box-cox power transformation  is useful as a transformation in modeling problems where homoscedasticity and normality are desired."
   ]
  },
  {
   "cell_type": "code",
   "execution_count": 7,
   "metadata": {
    "scrolled": false
   },
   "outputs": [
    {
     "data": {
      "text/plain": [
       "Text(0.5, 1.0, 'normalized data')"
      ]
     },
     "execution_count": 7,
     "metadata": {},
     "output_type": "execute_result"
    },
    {
     "data": {
      "image/png": "[encoded data removed]",
      "text/plain": [
       "<Figure size 432x288 with 2 Axes>"
      ]
     },
     "metadata": {
      "needs_background": "light"
     },
     "output_type": "display_data"
    }
   ],
   "source": [
    "normalized_data=stats.boxcox(y)\n",
    "fig,ax = plt.subplots(1,2)\n",
    "sns.distplot(y,ax=ax[0])\n",
    "ax[0].set_title(\"orginal data\")\n",
    "sns.distplot(normalized_data[0] , ax=ax[1])\n",
    "ax[1].set_title(\"normalized data\")"
   ]
  },
  {
   "cell_type": "markdown",
   "metadata": {},
   "source": [
    "##### Ok now we fixed positive sekew.We normalized the target using boxcox transformation."
   ]
  },
  {
   "cell_type": "code",
   "execution_count": 8,
   "metadata": {},
   "outputs": [
    {
     "data": {
      "image/png": "[encoded data removed]",
      "text/plain": [
       "<Figure size 432x288 with 1 Axes>"
      ]
     },
     "metadata": {
      "needs_background": "light"
     },
     "output_type": "display_data"
    }
   ],
   "source": [
    "plt.scatter(X.N1, X.Target, c = \"lightcoral\", marker =\"^\")\n",
    "plt.xlabel(\"N1\")\n",
    "plt.ylabel(\"Target\")\n",
    "plt.show()"
   ]
  },
  {
   "cell_type": "markdown",
   "metadata": {},
   "source": [
    "<a id=\"corr\"></a>\n",
    "## 7. Correlation"
   ]
  },
  {
   "cell_type": "code",
   "execution_count": 9,
   "metadata": {},
   "outputs": [],
   "source": [
    "X_copy = X.copy()"
   ]
  },
  {
   "cell_type": "code",
   "execution_count": 10,
   "metadata": {
    "scrolled": false
   },
   "outputs": [
    {
     "name": "stdout",
     "output_type": "stream",
     "text": [
      "<class 'pandas.core.frame.DataFrame'>\n",
      "RangeIndex: 5000 entries, 0 to 4999\n",
      "Data columns (total 17 columns):\n",
      " #   Column  Non-Null Count  Dtype  \n",
      "---  ------  --------------  -----  \n",
      " 0   Id      5000 non-null   int64  \n",
      " 1   Target  5000 non-null   int64  \n",
      " 2   N1      5000 non-null   float64\n",
      " 3   N2      5000 non-null   int64  \n",
      " 4   N3      5000 non-null   float64\n",
      " 5   N4      4995 non-null   float64\n",
      " 6   N5      4995 non-null   float64\n",
      " 7   N6      4994 non-null   float64\n",
      " 8   C1      5000 non-null   int64  \n",
      " 9   C2      5000 non-null   int32  \n",
      " 10  C3      5000 non-null   int32  \n",
      " 11  C4      5000 non-null   int32  \n",
      " 12  C5      5000 non-null   int32  \n",
      " 13  C6      5000 non-null   int32  \n",
      " 14  C7      5000 non-null   int32  \n",
      " 15  C8      5000 non-null   int32  \n",
      " 16  C9      5000 non-null   int32  \n",
      "dtypes: float64(5), int32(8), int64(4)\n",
      "memory usage: 507.9 KB\n"
     ]
    }
   ],
   "source": [
    "from sklearn.preprocessing import LabelEncoder\n",
    "object_cols = [col for col in X_copy.columns if X_copy[col].dtype == \"object\"]\n",
    "label_encoder=LabelEncoder()\n",
    "for col in object_cols:\n",
    "    X_copy[col]=label_encoder.fit_transform(X_copy[col].astype(str))\n",
    "X_copy.info()"
   ]
  },
  {
   "cell_type": "markdown",
   "metadata": {},
   "source": [
    "##### Here we will show how high correlation features and low correlation features impact on target."
   ]
  },
  {
   "cell_type": "code",
   "execution_count": 11,
   "metadata": {
    "scrolled": false
   },
   "outputs": [
    {
     "data": {
      "text/plain": [
       "Target    1.000000\n",
       "N1        0.987358\n",
       "N3        0.485878\n",
       "C1        0.297148\n",
       "C8        0.188964\n",
       "C5        0.063002\n",
       "C9        0.037280\n",
       "C6        0.037071\n",
       "N5        0.015338\n",
       "Id        0.007299\n",
       "N6        0.000749\n",
       "N4       -0.015762\n",
       "C7       -0.030433\n",
       "C2       -0.223411\n",
       "C4       -0.275374\n",
       "C3       -0.368609\n",
       "N2       -0.446597\n",
       "Name: Target, dtype: float64"
      ]
     },
     "execution_count": 11,
     "metadata": {},
     "output_type": "execute_result"
    }
   ],
   "source": [
    "cor=X_copy.corr()\n",
    "cor['Target'].sort_values(ascending=False)"
   ]
  },
  {
   "cell_type": "code",
   "execution_count": 12,
   "metadata": {
    "scrolled": false
   },
   "outputs": [
    {
     "data": {
      "image/png": "[encoded data removed]",
      "text/plain": [
       "<Figure size 792x648 with 2 Axes>"
      ]
     },
     "metadata": {
      "needs_background": "light"
     },
     "output_type": "display_data"
    }
   ],
   "source": [
    "cor=X_copy.corr()\n",
    "mask = np.triu(np.ones_like(cor, dtype=bool))\n",
    "f, ax = plt.subplots(figsize=(11, 9))\n",
    "cmap = sns.diverging_palette(230, 20, as_cmap=True)\n",
    "sns.heatmap(cor, mask=mask, cmap=cmap, vmax=.3, center=0,\n",
    "            square=True, linewidths=.5, cbar_kws={\"shrink\": .5});"
   ]
  },
  {
   "cell_type": "markdown",
   "metadata": {},
   "source": [
    "Here we see correlation of all features based on target.\n",
    "\n",
    "N1 and N3 both are high correlation with each others\n",
    "\n",
    "C1 and N1 both are high correlation with each others\n",
    "\n",
    "N3 and C8 both are high correlation with each others\n",
    "\n",
    "So we will choose for our model: N1,N3,C1,C5,C8,C9"
   ]
  },
  {
   "cell_type": "code",
   "execution_count": 13,
   "metadata": {
    "scrolled": false
   },
   "outputs": [
    {
     "data": {
      "text/plain": [
       "<seaborn.axisgrid.PairGrid at 0x2dbed52df10>"
      ]
     },
     "execution_count": 13,
     "metadata": {},
     "output_type": "execute_result"
    },
    {
     "data": {
      "image/png": "[encoded data removed]",
      "text/plain": [
       "<Figure size 864x288 with 3 Axes>"
      ]
     },
     "metadata": {
      "needs_background": "light"
     },
     "output_type": "display_data"
    },
    {
     "data": {
      "image/png": "[encoded data removed]",
      "text/plain": [
       "<Figure size 2304x288 with 8 Axes>"
      ]
     },
     "metadata": {
      "needs_background": "light"
     },
     "output_type": "display_data"
    }
   ],
   "source": [
    "high_cor_feature = sns.PairGrid(X, y_vars=[\"Target\"], x_vars=[\"N1\",\"N3\",\"C1\"], height=4)\n",
    "high_cor_feature.map(sns.regplot)\n",
    "\n",
    "low_cor_feature = sns.PairGrid(X_copy, y_vars=[\"Target\"], x_vars=[\"N4\",\"N2\",\"N5\",\"N6\",'C2','C3','C4','C5'], height=4)\n",
    "low_cor_feature.map(sns.regplot)"
   ]
  },
  {
   "cell_type": "markdown",
   "metadata": {},
   "source": [
    "High correlation features draw a possitive regression line with target.\n",
    "\n",
    "Low correlation features draw a negative regression line with target."
   ]
  },
  {
   "cell_type": "markdown",
   "metadata": {},
   "source": [
    "<a id=\"dc\"></a>\n",
    "## 8. Data Cleaning"
   ]
  },
  {
   "cell_type": "markdown",
   "metadata": {},
   "source": [
    "Data cleaning is the process of detecting and correcting (or removing) corrupt or inaccurate records from a record set, table, or database"
   ]
  },
  {
   "cell_type": "markdown",
   "metadata": {},
   "source": [
    "#### Drop Target\n",
    "Here we drop target variable and add train and test data so that it will be easy for clean."
   ]
  },
  {
   "cell_type": "code",
   "execution_count": 14,
   "metadata": {},
   "outputs": [],
   "source": [
    "test_id = test['Id']\n",
    "total_data = pd.concat([X, test], axis=0, sort=False)\n",
    "total_data = total_data.drop(['Id', 'Target','N2','N4','N5','N6','C2','C3','C4','C6','C7','C9'], axis=1)"
   ]
  },
  {
   "cell_type": "markdown",
   "metadata": {},
   "source": [
    "<a id=\"hmv\"></a>\n",
    "## 9. Handling Missing Values\n",
    "Here we count missing value and percentage for each column."
   ]
  },
  {
   "cell_type": "code",
   "execution_count": 15,
   "metadata": {
    "scrolled": false
   },
   "outputs": [
    {
     "data": {
      "text/html": [
       "<div>\n",
       "<style scoped>\n",
       "    .dataframe tbody tr th:only-of-type {\n",
       "        vertical-align: middle;\n",
       "    }\n",
       "\n",
       "    .dataframe tbody tr th {\n",
       "        vertical-align: top;\n",
       "    }\n",
       "\n",
       "    .dataframe thead th {\n",
       "        text-align: right;\n",
       "    }\n",
       "</style>\n",
       "<table border=\"1\" class=\"dataframe\">\n",
       "  <thead>\n",
       "    <tr style=\"text-align: right;\">\n",
       "      <th></th>\n",
       "      <th>missing</th>\n",
       "      <th>percent</th>\n",
       "    </tr>\n",
       "  </thead>\n",
       "  <tbody>\n",
       "    <tr>\n",
       "      <th>C8</th>\n",
       "      <td>1</td>\n",
       "      <td>0.016667</td>\n",
       "    </tr>\n",
       "    <tr>\n",
       "      <th>C5</th>\n",
       "      <td>0</td>\n",
       "      <td>0.000000</td>\n",
       "    </tr>\n",
       "    <tr>\n",
       "      <th>C1</th>\n",
       "      <td>0</td>\n",
       "      <td>0.000000</td>\n",
       "    </tr>\n",
       "    <tr>\n",
       "      <th>N3</th>\n",
       "      <td>0</td>\n",
       "      <td>0.000000</td>\n",
       "    </tr>\n",
       "    <tr>\n",
       "      <th>N1</th>\n",
       "      <td>0</td>\n",
       "      <td>0.000000</td>\n",
       "    </tr>\n",
       "  </tbody>\n",
       "</table>\n",
       "</div>"
      ],
      "text/plain": [
       "    missing   percent\n",
       "C8        1  0.016667\n",
       "C5        0  0.000000\n",
       "C1        0  0.000000\n",
       "N3        0  0.000000\n",
       "N1        0  0.000000"
      ]
     },
     "execution_count": 15,
     "metadata": {},
     "output_type": "execute_result"
    }
   ],
   "source": [
    "missing_values_count = total_data.isnull().sum().sort_values(ascending=False)\n",
    "percent= (total_data.isnull().sum() / total_data.isnull().count().sort_values(ascending=False)*100)\n",
    "missing_data = pd.concat([missing_values_count,percent], axis=1, keys=['missing', 'percent'])\n",
    "missing_data.head(30)"
   ]
  },
  {
   "cell_type": "code",
   "execution_count": 16,
   "metadata": {
    "scrolled": false
   },
   "outputs": [
    {
     "name": "stdout",
     "output_type": "stream",
     "text": [
      "<class 'pandas.core.frame.DataFrame'>\n",
      "Int64Index: 6000 entries, 0 to 999\n",
      "Data columns (total 5 columns):\n",
      " #   Column  Non-Null Count  Dtype  \n",
      "---  ------  --------------  -----  \n",
      " 0   N1      6000 non-null   float64\n",
      " 1   N3      6000 non-null   float64\n",
      " 2   C1      6000 non-null   int64  \n",
      " 3   C5      6000 non-null   object \n",
      " 4   C8      5999 non-null   object \n",
      "dtypes: float64(2), int64(1), object(2)\n",
      "memory usage: 281.2+ KB\n"
     ]
    }
   ],
   "source": [
    "total_data.info()"
   ]
  },
  {
   "cell_type": "markdown",
   "metadata": {},
   "source": [
    "## Back to Feature Engineering"
   ]
  },
  {
   "cell_type": "markdown",
   "metadata": {},
   "source": [
    "#### Apply Label Encoder Method\n",
    "We use it for transforming categorical vabiables."
   ]
  },
  {
   "cell_type": "code",
   "execution_count": 17,
   "metadata": {},
   "outputs": [
    {
     "name": "stdout",
     "output_type": "stream",
     "text": [
      "<class 'pandas.core.frame.DataFrame'>\n",
      "Int64Index: 6000 entries, 0 to 999\n",
      "Data columns (total 5 columns):\n",
      " #   Column  Non-Null Count  Dtype  \n",
      "---  ------  --------------  -----  \n",
      " 0   N1      6000 non-null   float64\n",
      " 1   N3      6000 non-null   float64\n",
      " 2   C1      6000 non-null   int64  \n",
      " 3   C5      6000 non-null   int32  \n",
      " 4   C8      6000 non-null   int32  \n",
      "dtypes: float64(2), int32(2), int64(1)\n",
      "memory usage: 234.4 KB\n"
     ]
    }
   ],
   "source": [
    "from sklearn.preprocessing import LabelEncoder\n",
    "object_cols = [col for col in total_data.columns if total_data[col].dtype == \"object\"]\n",
    "label_encoder=LabelEncoder()\n",
    "for col in object_cols:\n",
    "    total_data[col]=label_encoder.fit_transform(total_data[col].astype(str))\n",
    "total_data.info()"
   ]
  },
  {
   "cell_type": "markdown",
   "metadata": {},
   "source": [
    "#### Apply Simple Imputer Method\n",
    "Simple imputer method used for handle numerical variable."
   ]
  },
  {
   "cell_type": "code",
   "execution_count": 18,
   "metadata": {
    "scrolled": true
   },
   "outputs": [
    {
     "data": {
      "text/plain": [
       "C8    0\n",
       "C5    0\n",
       "C1    0\n",
       "N3    0\n",
       "N1    0\n",
       "dtype: int64"
      ]
     },
     "execution_count": 18,
     "metadata": {},
     "output_type": "execute_result"
    }
   ],
   "source": [
    "from sklearn.impute import SimpleImputer\n",
    "numeric_cols = [col for col in total_data.columns if total_data[col].dtype in ['int64','float64']]\n",
    "my_imputer=SimpleImputer(strategy='median')\n",
    "data = pd.DataFrame(my_imputer.fit_transform(total_data))\n",
    "data.columns = total_data.columns\n",
    "a=data.isnull().sum().sort_values(ascending=False)\n",
    "a.head(10)"
   ]
  },
  {
   "cell_type": "markdown",
   "metadata": {},
   "source": [
    "#### Fix The Skewness of Features"
   ]
  },
  {
   "cell_type": "code",
   "execution_count": 19,
   "metadata": {},
   "outputs": [],
   "source": [
    "skewed_feats = data[numeric_cols].apply(lambda x: skew(x)).sort_values(ascending=False)\n",
    "for feature in skewed_feats.index:\n",
    "    data[feature] = np.log1p(data[feature])"
   ]
  },
  {
   "cell_type": "code",
   "execution_count": 20,
   "metadata": {},
   "outputs": [
    {
     "data": {
      "text/plain": [
       "N1    1.000000\n",
       "N3    0.469725\n",
       "C1    0.275045\n",
       "C8    0.205714\n",
       "C5    0.071930\n",
       "Name: N1, dtype: float64"
      ]
     },
     "execution_count": 20,
     "metadata": {},
     "output_type": "execute_result"
    }
   ],
   "source": [
    "cor=data.corr()\n",
    "cor['N1'].sort_values(ascending=False)"
   ]
  },
  {
   "cell_type": "code",
   "execution_count": 21,
   "metadata": {
    "scrolled": true
   },
   "outputs": [
    {
     "data": {
      "text/html": [
       "<div>\n",
       "<style scoped>\n",
       "    .dataframe tbody tr th:only-of-type {\n",
       "        vertical-align: middle;\n",
       "    }\n",
       "\n",
       "    .dataframe tbody tr th {\n",
       "        vertical-align: top;\n",
       "    }\n",
       "\n",
       "    .dataframe thead th {\n",
       "        text-align: right;\n",
       "    }\n",
       "</style>\n",
       "<table border=\"1\" class=\"dataframe\">\n",
       "  <thead>\n",
       "    <tr style=\"text-align: right;\">\n",
       "      <th></th>\n",
       "      <th>N1</th>\n",
       "      <th>N3</th>\n",
       "      <th>C1</th>\n",
       "      <th>C5</th>\n",
       "      <th>C8</th>\n",
       "    </tr>\n",
       "  </thead>\n",
       "  <tbody>\n",
       "    <tr>\n",
       "      <th>count</th>\n",
       "      <td>6000.000000</td>\n",
       "      <td>6000.000000</td>\n",
       "      <td>6000.000000</td>\n",
       "      <td>6000.000000</td>\n",
       "      <td>6000.000000</td>\n",
       "    </tr>\n",
       "    <tr>\n",
       "      <th>mean</th>\n",
       "      <td>15.000799</td>\n",
       "      <td>1.171850</td>\n",
       "      <td>0.935960</td>\n",
       "      <td>0.204167</td>\n",
       "      <td>17.531167</td>\n",
       "    </tr>\n",
       "    <tr>\n",
       "      <th>std</th>\n",
       "      <td>0.473068</td>\n",
       "      <td>0.206459</td>\n",
       "      <td>0.263785</td>\n",
       "      <td>0.546991</td>\n",
       "      <td>6.758326</td>\n",
       "    </tr>\n",
       "    <tr>\n",
       "      <th>min</th>\n",
       "      <td>13.339068</td>\n",
       "      <td>0.693147</td>\n",
       "      <td>0.693147</td>\n",
       "      <td>0.000000</td>\n",
       "      <td>0.000000</td>\n",
       "    </tr>\n",
       "    <tr>\n",
       "      <th>25%</th>\n",
       "      <td>14.728982</td>\n",
       "      <td>0.955511</td>\n",
       "      <td>0.693147</td>\n",
       "      <td>0.000000</td>\n",
       "      <td>13.000000</td>\n",
       "    </tr>\n",
       "    <tr>\n",
       "      <th>50%</th>\n",
       "      <td>14.966085</td>\n",
       "      <td>1.223775</td>\n",
       "      <td>0.693147</td>\n",
       "      <td>0.000000</td>\n",
       "      <td>18.000000</td>\n",
       "    </tr>\n",
       "    <tr>\n",
       "      <th>75%</th>\n",
       "      <td>15.273650</td>\n",
       "      <td>1.308333</td>\n",
       "      <td>1.098612</td>\n",
       "      <td>0.000000</td>\n",
       "      <td>23.000000</td>\n",
       "    </tr>\n",
       "    <tr>\n",
       "      <th>max</th>\n",
       "      <td>16.936325</td>\n",
       "      <td>1.902108</td>\n",
       "      <td>1.386294</td>\n",
       "      <td>4.000000</td>\n",
       "      <td>29.000000</td>\n",
       "    </tr>\n",
       "  </tbody>\n",
       "</table>\n",
       "</div>"
      ],
      "text/plain": [
       "                N1           N3           C1           C5           C8\n",
       "count  6000.000000  6000.000000  6000.000000  6000.000000  6000.000000\n",
       "mean     15.000799     1.171850     0.935960     0.204167    17.531167\n",
       "std       0.473068     0.206459     0.263785     0.546991     6.758326\n",
       "min      13.339068     0.693147     0.693147     0.000000     0.000000\n",
       "25%      14.728982     0.955511     0.693147     0.000000    13.000000\n",
       "50%      14.966085     1.223775     0.693147     0.000000    18.000000\n",
       "75%      15.273650     1.308333     1.098612     0.000000    23.000000\n",
       "max      16.936325     1.902108     1.386294     4.000000    29.000000"
      ]
     },
     "execution_count": 21,
     "metadata": {},
     "output_type": "execute_result"
    }
   ],
   "source": [
    "data.describe()"
   ]
  },
  {
   "cell_type": "markdown",
   "metadata": {},
   "source": [
    "#### Separate Train and Test After Clean"
   ]
  },
  {
   "cell_type": "code",
   "execution_count": 22,
   "metadata": {
    "scrolled": false
   },
   "outputs": [
    {
     "name": "stdout",
     "output_type": "stream",
     "text": [
      "<class 'pandas.core.frame.DataFrame'>\n",
      "RangeIndex: 5000 entries, 0 to 4999\n",
      "Data columns (total 5 columns):\n",
      " #   Column  Non-Null Count  Dtype  \n",
      "---  ------  --------------  -----  \n",
      " 0   N1      5000 non-null   float64\n",
      " 1   N3      5000 non-null   float64\n",
      " 2   C1      5000 non-null   float64\n",
      " 3   C5      5000 non-null   float64\n",
      " 4   C8      5000 non-null   float64\n",
      "dtypes: float64(5)\n",
      "memory usage: 195.4 KB\n",
      "<class 'pandas.core.frame.DataFrame'>\n",
      "RangeIndex: 1000 entries, 5000 to 5999\n",
      "Data columns (total 5 columns):\n",
      " #   Column  Non-Null Count  Dtype  \n",
      "---  ------  --------------  -----  \n",
      " 0   N1      1000 non-null   float64\n",
      " 1   N3      1000 non-null   float64\n",
      " 2   C1      1000 non-null   float64\n",
      " 3   C5      1000 non-null   float64\n",
      " 4   C8      1000 non-null   float64\n",
      "dtypes: float64(5)\n",
      "memory usage: 39.2 KB\n"
     ]
    }
   ],
   "source": [
    "x_train =data[:len(y)]\n",
    "x_test = data[len(y):]\n",
    "x_train.info()\n",
    "x_test.info()"
   ]
  },
  {
   "cell_type": "markdown",
   "metadata": {},
   "source": [
    "<a id=\"aml\"></a>\n",
    "## 10. Apply Machine Learning Model"
   ]
  },
  {
   "cell_type": "markdown",
   "metadata": {},
   "source": [
    "#### Apply XGBOOST Algorithm"
   ]
  },
  {
   "cell_type": "code",
   "execution_count": 23,
   "metadata": {
    "scrolled": false
   },
   "outputs": [
    {
     "data": {
      "text/plain": [
       "XGBRegressor(base_score=0.5, booster='gbtree', colsample_bylevel=1,\n",
       "             colsample_bynode=1, colsample_bytree=1, gamma=0, gpu_id=-1,\n",
       "             importance_type='gain', interaction_constraints='',\n",
       "             learning_rate=0.05, max_delta_step=0, max_depth=6,\n",
       "             min_child_weight=1, missing=nan, monotone_constraints='()',\n",
       "             n_estimators=2000, n_jobs=4, num_parallel_tree=1, random_state=0,\n",
       "             reg_alpha=0, reg_lambda=1, scale_pos_weight=1, subsample=1,\n",
       "             tree_method='exact', validate_parameters=1, verbosity=None)"
      ]
     },
     "execution_count": 23,
     "metadata": {},
     "output_type": "execute_result"
    }
   ],
   "source": [
    "model =XGB.XGBRegressor(n_estimators=2000, learning_rate=0.05, n_jobs=4)\n",
    "model.fit(x_train, y)\n",
    "\n"
   ]
  },
  {
   "cell_type": "code",
   "execution_count": 24,
   "metadata": {
    "scrolled": false
   },
   "outputs": [
    {
     "data": {
      "text/html": [
       "<div>\n",
       "<style scoped>\n",
       "    .dataframe tbody tr th:only-of-type {\n",
       "        vertical-align: middle;\n",
       "    }\n",
       "\n",
       "    .dataframe tbody tr th {\n",
       "        vertical-align: top;\n",
       "    }\n",
       "\n",
       "    .dataframe thead th {\n",
       "        text-align: right;\n",
       "    }\n",
       "</style>\n",
       "<table border=\"1\" class=\"dataframe\">\n",
       "  <thead>\n",
       "    <tr style=\"text-align: right;\">\n",
       "      <th></th>\n",
       "      <th>N1</th>\n",
       "      <th>N3</th>\n",
       "      <th>C1</th>\n",
       "      <th>C5</th>\n",
       "      <th>C8</th>\n",
       "    </tr>\n",
       "  </thead>\n",
       "  <tbody>\n",
       "    <tr>\n",
       "      <th>5000</th>\n",
       "      <td>14.855098</td>\n",
       "      <td>1.029619</td>\n",
       "      <td>0.693147</td>\n",
       "      <td>0.0</td>\n",
       "      <td>25.0</td>\n",
       "    </tr>\n",
       "    <tr>\n",
       "      <th>5001</th>\n",
       "      <td>14.868526</td>\n",
       "      <td>0.955511</td>\n",
       "      <td>1.098612</td>\n",
       "      <td>0.0</td>\n",
       "      <td>6.0</td>\n",
       "    </tr>\n",
       "    <tr>\n",
       "      <th>5002</th>\n",
       "      <td>15.345957</td>\n",
       "      <td>1.098612</td>\n",
       "      <td>1.098612</td>\n",
       "      <td>0.0</td>\n",
       "      <td>17.0</td>\n",
       "    </tr>\n",
       "    <tr>\n",
       "      <th>5003</th>\n",
       "      <td>15.039286</td>\n",
       "      <td>1.252763</td>\n",
       "      <td>0.693147</td>\n",
       "      <td>0.0</td>\n",
       "      <td>11.0</td>\n",
       "    </tr>\n",
       "    <tr>\n",
       "      <th>5004</th>\n",
       "      <td>15.137760</td>\n",
       "      <td>1.504077</td>\n",
       "      <td>0.693147</td>\n",
       "      <td>0.0</td>\n",
       "      <td>23.0</td>\n",
       "    </tr>\n",
       "    <tr>\n",
       "      <th>...</th>\n",
       "      <td>...</td>\n",
       "      <td>...</td>\n",
       "      <td>...</td>\n",
       "      <td>...</td>\n",
       "      <td>...</td>\n",
       "    </tr>\n",
       "    <tr>\n",
       "      <th>5995</th>\n",
       "      <td>15.092756</td>\n",
       "      <td>1.223775</td>\n",
       "      <td>0.693147</td>\n",
       "      <td>0.0</td>\n",
       "      <td>13.0</td>\n",
       "    </tr>\n",
       "    <tr>\n",
       "      <th>5996</th>\n",
       "      <td>13.987117</td>\n",
       "      <td>0.955511</td>\n",
       "      <td>0.693147</td>\n",
       "      <td>0.0</td>\n",
       "      <td>25.0</td>\n",
       "    </tr>\n",
       "    <tr>\n",
       "      <th>5997</th>\n",
       "      <td>14.982128</td>\n",
       "      <td>1.223775</td>\n",
       "      <td>1.386294</td>\n",
       "      <td>1.0</td>\n",
       "      <td>23.0</td>\n",
       "    </tr>\n",
       "    <tr>\n",
       "      <th>5998</th>\n",
       "      <td>15.069667</td>\n",
       "      <td>1.252763</td>\n",
       "      <td>0.693147</td>\n",
       "      <td>0.0</td>\n",
       "      <td>1.0</td>\n",
       "    </tr>\n",
       "    <tr>\n",
       "      <th>5999</th>\n",
       "      <td>14.762489</td>\n",
       "      <td>1.386294</td>\n",
       "      <td>0.693147</td>\n",
       "      <td>1.0</td>\n",
       "      <td>23.0</td>\n",
       "    </tr>\n",
       "  </tbody>\n",
       "</table>\n",
       "<p>1000 rows × 5 columns</p>\n",
       "</div>"
      ],
      "text/plain": [
       "             N1        N3        C1   C5    C8\n",
       "5000  14.855098  1.029619  0.693147  0.0  25.0\n",
       "5001  14.868526  0.955511  1.098612  0.0   6.0\n",
       "5002  15.345957  1.098612  1.098612  0.0  17.0\n",
       "5003  15.039286  1.252763  0.693147  0.0  11.0\n",
       "5004  15.137760  1.504077  0.693147  0.0  23.0\n",
       "...         ...       ...       ...  ...   ...\n",
       "5995  15.092756  1.223775  0.693147  0.0  13.0\n",
       "5996  13.987117  0.955511  0.693147  0.0  25.0\n",
       "5997  14.982128  1.223775  1.386294  1.0  23.0\n",
       "5998  15.069667  1.252763  0.693147  0.0   1.0\n",
       "5999  14.762489  1.386294  0.693147  1.0  23.0\n",
       "\n",
       "[1000 rows x 5 columns]"
      ]
     },
     "execution_count": 24,
     "metadata": {},
     "output_type": "execute_result"
    }
   ],
   "source": [
    "x_test"
   ]
  },
  {
   "cell_type": "markdown",
   "metadata": {},
   "source": [
    "#### Predict Test"
   ]
  },
  {
   "cell_type": "code",
   "execution_count": 25,
   "metadata": {},
   "outputs": [],
   "source": [
    "from sklearn.metrics import mean_squared_error"
   ]
  },
  {
   "cell_type": "code",
   "execution_count": 26,
   "metadata": {},
   "outputs": [],
   "source": [
    "predictions2 = model.predict(x_train)"
   ]
  },
  {
   "cell_type": "code",
   "execution_count": 27,
   "metadata": {},
   "outputs": [
    {
     "name": "stdout",
     "output_type": "stream",
     "text": [
      "8830117117.045929\n"
     ]
    }
   ],
   "source": [
    "print(mean_squared_error(y, predictions2))"
   ]
  },
  {
   "cell_type": "code",
   "execution_count": 28,
   "metadata": {},
   "outputs": [],
   "source": [
    "predictions = model.predict(x_test)"
   ]
  },
  {
   "cell_type": "markdown",
   "metadata": {},
   "source": [
    "#### Submit Result at Kaggle Competion"
   ]
  },
  {
   "cell_type": "code",
   "execution_count": 29,
   "metadata": {},
   "outputs": [
    {
     "data": {
      "text/html": [
       "<div>\n",
       "<style scoped>\n",
       "    .dataframe tbody tr th:only-of-type {\n",
       "        vertical-align: middle;\n",
       "    }\n",
       "\n",
       "    .dataframe tbody tr th {\n",
       "        vertical-align: top;\n",
       "    }\n",
       "\n",
       "    .dataframe thead th {\n",
       "        text-align: right;\n",
       "    }\n",
       "</style>\n",
       "<table border=\"1\" class=\"dataframe\">\n",
       "  <thead>\n",
       "    <tr style=\"text-align: right;\">\n",
       "      <th></th>\n",
       "      <th>Id</th>\n",
       "      <th>Target</th>\n",
       "    </tr>\n",
       "  </thead>\n",
       "  <tbody>\n",
       "    <tr>\n",
       "      <th>0</th>\n",
       "      <td>20000</td>\n",
       "      <td>2499529.25</td>\n",
       "    </tr>\n",
       "    <tr>\n",
       "      <th>1</th>\n",
       "      <td>20001</td>\n",
       "      <td>2525409.75</td>\n",
       "    </tr>\n",
       "    <tr>\n",
       "      <th>2</th>\n",
       "      <td>20002</td>\n",
       "      <td>3976347.75</td>\n",
       "    </tr>\n",
       "    <tr>\n",
       "      <th>3</th>\n",
       "      <td>20003</td>\n",
       "      <td>2888328.50</td>\n",
       "    </tr>\n",
       "    <tr>\n",
       "      <th>4</th>\n",
       "      <td>20004</td>\n",
       "      <td>3208753.25</td>\n",
       "    </tr>\n",
       "    <tr>\n",
       "      <th>5</th>\n",
       "      <td>20005</td>\n",
       "      <td>3837052.25</td>\n",
       "    </tr>\n",
       "    <tr>\n",
       "      <th>6</th>\n",
       "      <td>20006</td>\n",
       "      <td>2814695.00</td>\n",
       "    </tr>\n",
       "    <tr>\n",
       "      <th>7</th>\n",
       "      <td>20007</td>\n",
       "      <td>1562774.50</td>\n",
       "    </tr>\n",
       "    <tr>\n",
       "      <th>8</th>\n",
       "      <td>20008</td>\n",
       "      <td>1363555.75</td>\n",
       "    </tr>\n",
       "    <tr>\n",
       "      <th>9</th>\n",
       "      <td>20009</td>\n",
       "      <td>2149225.00</td>\n",
       "    </tr>\n",
       "  </tbody>\n",
       "</table>\n",
       "</div>"
      ],
      "text/plain": [
       "      Id      Target\n",
       "0  20000  2499529.25\n",
       "1  20001  2525409.75\n",
       "2  20002  3976347.75\n",
       "3  20003  2888328.50\n",
       "4  20004  3208753.25\n",
       "5  20005  3837052.25\n",
       "6  20006  2814695.00\n",
       "7  20007  1562774.50\n",
       "8  20008  1363555.75\n",
       "9  20009  2149225.00"
      ]
     },
     "execution_count": 29,
     "metadata": {},
     "output_type": "execute_result"
    }
   ],
   "source": [
    "sub = pd.DataFrame()\n",
    "sub['Id'] = test_id\n",
    "sub['Target'] = predictions\n",
    "sub.to_csv('submission.csv',index=False)\n",
    "sub.head(10)"
   ]
  },
  {
   "cell_type": "markdown",
   "metadata": {},
   "source": [
    "<a id=\"con\"></a>\n",
    "## 11. Conclusion\n",
    "To conclude our work, we would share that the MSE result is equal to 8830117117.045929. "
   ]
  },
  {
   "cell_type": "markdown",
   "metadata": {},
   "source": [
    "<a id=\"ref\"></a>\n",
    "## 12. Reference\n",
    "https://scikit-learn.org/stable/auto_examples/preprocessing/plot_map_data_to_normal.html"
   ]
  }
 ],
 "metadata": {
  "kernelspec": {
   "display_name": "Python 3",
   "language": "python",
   "name": "python3"
  },
  "language_info": {
   "codemirror_mode": {
    "name": "ipython",
    "version": 3
   },
   "file_extension": ".py",
   "mimetype": "text/x-python",
   "name": "python",
   "nbconvert_exporter": "python",
   "pygments_lexer": "ipython3",
   "version": "3.8.3"
  }
 },
 "nbformat": 4,
 "nbformat_minor": 4
}
