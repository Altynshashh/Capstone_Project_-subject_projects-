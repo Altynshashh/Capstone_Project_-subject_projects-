{
 "cells": [
  {
   "cell_type": "markdown",
   "metadata": {},
   "source": [
    "#  Telecom Churn Prediction\n"
   ]
  },
  {
   "cell_type": "markdown",
   "metadata": {},
   "source": [
    "**Team AID:**\n",
    "    1. Shukiraliyev Daniyar\n",
    "    2. Daniyarova Altynshash\n",
    "    3. Kerimbek Imangali"
   ]
  },
  {
   "cell_type": "markdown",
   "metadata": {},
   "source": [
    "## Content\n",
    "+ Introduction\n",
    "+ Research questions\n",
    "+ Data description and objectives\n",
    "+ Data acquisiton, manipulation and validation\n",
    "+ Model building\n",
    "+ Evaluating models\n",
    "+ Conclusion"
   ]
  },
  {
   "cell_type": "markdown",
   "metadata": {},
   "source": [
    "## 1. Introduction\n",
    "\n",
    "The company is constantly working to improve the quality of its products and services for its subscriber base and to minimize churn. In our work, we use a personal approach to subscribers (абонентам).\n",
    "To reduce churn, the company uses different channels of communication with clients. Each proposal must be addressed to an individual request. In this task, we have to use the available data to try to determine the subscribers(абонента) who will go to churn."
   ]
  },
  {
   "cell_type": "markdown",
   "metadata": {},
   "source": [
    "## 2. Steps\n",
    "1. Build the best model\n",
    "2. Evaluate the model"
   ]
  },
  {
   "cell_type": "markdown",
   "metadata": {},
   "source": [
    "## 3. Data description and objectives\n",
    "\n",
    "The dataset contains anonymized data about subscribers: the subscriber's service language, tariff plan, information on the volumes of consumption of various operator services, and others.\n",
    "\n",
    "\n",
    "+ **3 categorical features (C1, C2, C3)**\n",
    "+ **23 numerical signs (N1, …, N23)**\n",
    "+ **target variable - TARGET**"
   ]
  },
  {
   "cell_type": "markdown",
   "metadata": {},
   "source": [
    "## 4. Data acquisiton, manipulation and validation"
   ]
  },
  {
   "cell_type": "code",
   "execution_count": 1,
   "metadata": {},
   "outputs": [],
   "source": [
    "# import all modules\n",
    "import pandas as pd\n",
    "import numpy as np\n",
    "import seaborn as sns\n",
    "import matplotlib.pyplot as plt\n",
    "from sklearn import preprocessing\n",
    "from sklearn.model_selection import train_test_split, GridSearchCV, cross_val_score\n",
    "from sklearn.metrics import precision_score, recall_score, plot_confusion_matrix,  classification_report, accuracy_score, f1_score, confusion_matrix"
   ]
  },
  {
   "cell_type": "code",
   "execution_count": 2,
   "metadata": {},
   "outputs": [
    {
     "data": {
      "text/html": [
       "<div>\n",
       "<style scoped>\n",
       "    .dataframe tbody tr th:only-of-type {\n",
       "        vertical-align: middle;\n",
       "    }\n",
       "\n",
       "    .dataframe tbody tr th {\n",
       "        vertical-align: top;\n",
       "    }\n",
       "\n",
       "    .dataframe thead th {\n",
       "        text-align: right;\n",
       "    }\n",
       "</style>\n",
       "<table border=\"1\" class=\"dataframe\">\n",
       "  <thead>\n",
       "    <tr style=\"text-align: right;\">\n",
       "      <th></th>\n",
       "      <th>C1</th>\n",
       "      <th>C2</th>\n",
       "      <th>C3</th>\n",
       "      <th>N1</th>\n",
       "      <th>N2</th>\n",
       "      <th>N3</th>\n",
       "      <th>N4</th>\n",
       "      <th>N5</th>\n",
       "      <th>N6</th>\n",
       "      <th>N7</th>\n",
       "      <th>N8</th>\n",
       "      <th>N9</th>\n",
       "      <th>N10</th>\n",
       "      <th>N11</th>\n",
       "      <th>N12</th>\n",
       "      <th>N13</th>\n",
       "      <th>N14</th>\n",
       "      <th>N15</th>\n",
       "      <th>N16</th>\n",
       "      <th>N17</th>\n",
       "      <th>N18</th>\n",
       "      <th>N19</th>\n",
       "      <th>N20</th>\n",
       "      <th>N21</th>\n",
       "      <th>N22</th>\n",
       "      <th>N23</th>\n",
       "      <th>TARGET</th>\n",
       "    </tr>\n",
       "  </thead>\n",
       "  <tbody>\n",
       "    <tr>\n",
       "      <th>0</th>\n",
       "      <td>3139363536333839</td>\n",
       "      <td>323531</td>\n",
       "      <td>33</td>\n",
       "      <td>83,74</td>\n",
       "      <td>3172,92</td>\n",
       "      <td>181,48</td>\n",
       "      <td>24,83</td>\n",
       "      <td>9,6</td>\n",
       "      <td>0</td>\n",
       "      <td>0</td>\n",
       "      <td>24,83</td>\n",
       "      <td>9,6</td>\n",
       "      <td>24,83</td>\n",
       "      <td>9,6</td>\n",
       "      <td>0</td>\n",
       "      <td>0</td>\n",
       "      <td>36</td>\n",
       "      <td>7</td>\n",
       "      <td>0</td>\n",
       "      <td>0</td>\n",
       "      <td>36</td>\n",
       "      <td>7</td>\n",
       "      <td>36</td>\n",
       "      <td>7</td>\n",
       "      <td>0</td>\n",
       "      <td>0</td>\n",
       "      <td>0</td>\n",
       "    </tr>\n",
       "    <tr>\n",
       "      <th>1</th>\n",
       "      <td>3437333830323633</td>\n",
       "      <td>343835</td>\n",
       "      <td>31</td>\n",
       "      <td>1,46</td>\n",
       "      <td>1273,88</td>\n",
       "      <td>92,11</td>\n",
       "      <td>211,78</td>\n",
       "      <td>28,98</td>\n",
       "      <td>5,75</td>\n",
       "      <td>13,85</td>\n",
       "      <td>206,03</td>\n",
       "      <td>15,13</td>\n",
       "      <td>211,78</td>\n",
       "      <td>28,98</td>\n",
       "      <td>0</td>\n",
       "      <td>0</td>\n",
       "      <td>57</td>\n",
       "      <td>18</td>\n",
       "      <td>5</td>\n",
       "      <td>6</td>\n",
       "      <td>52</td>\n",
       "      <td>12</td>\n",
       "      <td>57</td>\n",
       "      <td>18</td>\n",
       "      <td>0</td>\n",
       "      <td>0</td>\n",
       "      <td>0</td>\n",
       "    </tr>\n",
       "    <tr>\n",
       "      <th>2</th>\n",
       "      <td>3134323931353339</td>\n",
       "      <td>323531</td>\n",
       "      <td>33</td>\n",
       "      <td>0</td>\n",
       "      <td>31,95</td>\n",
       "      <td>763,19</td>\n",
       "      <td>48,13</td>\n",
       "      <td>77,22</td>\n",
       "      <td>9,33</td>\n",
       "      <td>4,9</td>\n",
       "      <td>38,8</td>\n",
       "      <td>72,32</td>\n",
       "      <td>48,13</td>\n",
       "      <td>77,22</td>\n",
       "      <td>0</td>\n",
       "      <td>0</td>\n",
       "      <td>64</td>\n",
       "      <td>24</td>\n",
       "      <td>18</td>\n",
       "      <td>6</td>\n",
       "      <td>46</td>\n",
       "      <td>18</td>\n",
       "      <td>64</td>\n",
       "      <td>24</td>\n",
       "      <td>0</td>\n",
       "      <td>0</td>\n",
       "      <td>0</td>\n",
       "    </tr>\n",
       "    <tr>\n",
       "      <th>3</th>\n",
       "      <td>3431333831343031</td>\n",
       "      <td>343433</td>\n",
       "      <td>31</td>\n",
       "      <td>117,49</td>\n",
       "      <td>529,19</td>\n",
       "      <td>1506,4</td>\n",
       "      <td>127,67</td>\n",
       "      <td>49,3</td>\n",
       "      <td>6,25</td>\n",
       "      <td>0,2</td>\n",
       "      <td>120,07</td>\n",
       "      <td>49,1</td>\n",
       "      <td>127,67</td>\n",
       "      <td>49,3</td>\n",
       "      <td>0</td>\n",
       "      <td>0</td>\n",
       "      <td>148</td>\n",
       "      <td>57</td>\n",
       "      <td>4</td>\n",
       "      <td>1</td>\n",
       "      <td>142</td>\n",
       "      <td>56</td>\n",
       "      <td>148</td>\n",
       "      <td>57</td>\n",
       "      <td>0</td>\n",
       "      <td>0</td>\n",
       "      <td>0</td>\n",
       "    </tr>\n",
       "    <tr>\n",
       "      <th>4</th>\n",
       "      <td>3233343933313234</td>\n",
       "      <td>343835</td>\n",
       "      <td>31</td>\n",
       "      <td>0</td>\n",
       "      <td>38,24</td>\n",
       "      <td>3493,18</td>\n",
       "      <td>389,98</td>\n",
       "      <td>72,78</td>\n",
       "      <td>16,72</td>\n",
       "      <td>4,28</td>\n",
       "      <td>373,27</td>\n",
       "      <td>68,5</td>\n",
       "      <td>389,98</td>\n",
       "      <td>72,78</td>\n",
       "      <td>0</td>\n",
       "      <td>0</td>\n",
       "      <td>86</td>\n",
       "      <td>28</td>\n",
       "      <td>17</td>\n",
       "      <td>5</td>\n",
       "      <td>69</td>\n",
       "      <td>23</td>\n",
       "      <td>86</td>\n",
       "      <td>28</td>\n",
       "      <td>0</td>\n",
       "      <td>0</td>\n",
       "      <td>0</td>\n",
       "    </tr>\n",
       "  </tbody>\n",
       "</table>\n",
       "</div>"
      ],
      "text/plain": [
       "                 C1      C2  C3      N1       N2       N3      N4     N5  \\\n",
       "0  3139363536333839  323531  33   83,74  3172,92   181,48   24,83    9,6   \n",
       "1  3437333830323633  343835  31    1,46  1273,88    92,11  211,78  28,98   \n",
       "2  3134323931353339  323531  33       0    31,95   763,19   48,13  77,22   \n",
       "3  3431333831343031  343433  31  117,49   529,19   1506,4  127,67   49,3   \n",
       "4  3233343933313234  343835  31       0    38,24  3493,18  389,98  72,78   \n",
       "\n",
       "      N6     N7      N8     N9     N10    N11 N12 N13  N14  N15  N16  N17  \\\n",
       "0      0      0   24,83    9,6   24,83    9,6   0   0   36    7    0    0   \n",
       "1   5,75  13,85  206,03  15,13  211,78  28,98   0   0   57   18    5    6   \n",
       "2   9,33    4,9    38,8  72,32   48,13  77,22   0   0   64   24   18    6   \n",
       "3   6,25    0,2  120,07   49,1  127,67   49,3   0   0  148   57    4    1   \n",
       "4  16,72   4,28  373,27   68,5  389,98  72,78   0   0   86   28   17    5   \n",
       "\n",
       "   N18  N19  N20  N21  N22  N23  TARGET  \n",
       "0   36    7   36    7    0    0       0  \n",
       "1   52   12   57   18    0    0       0  \n",
       "2   46   18   64   24    0    0       0  \n",
       "3  142   56  148   57    0    0       0  \n",
       "4   69   23   86   28    0    0       0  "
      ]
     },
     "execution_count": 2,
     "metadata": {},
     "output_type": "execute_result"
    }
   ],
   "source": [
    "# read file\n",
    "df = pd.read_csv('train.csv', sep=';')\n",
    "pd.set_option(\"display.max_columns\", None)\n",
    "df.head()"
   ]
  },
  {
   "cell_type": "code",
   "execution_count": 3,
   "metadata": {},
   "outputs": [
    {
     "data": {
      "text/plain": [
       "Index(['C1', 'C2', 'C3', 'N1', 'N2', 'N3', 'N4', 'N5', 'N6', 'N7', 'N8', 'N9',\n",
       "       'N10', 'N11', 'N12', 'N13', 'N14', 'N15', 'N16', 'N17', 'N18', 'N19',\n",
       "       'N20', 'N21', 'N22', 'N23', 'TARGET'],\n",
       "      dtype='object')"
      ]
     },
     "execution_count": 3,
     "metadata": {},
     "output_type": "execute_result"
    }
   ],
   "source": [
    "# check columns\n",
    "df.columns"
   ]
  },
  {
   "cell_type": "code",
   "execution_count": 4,
   "metadata": {},
   "outputs": [
    {
     "name": "stdout",
     "output_type": "stream",
     "text": [
      "<class 'pandas.core.frame.DataFrame'>\n",
      "RangeIndex: 514009 entries, 0 to 514008\n",
      "Data columns (total 27 columns):\n",
      " #   Column  Non-Null Count   Dtype \n",
      "---  ------  --------------   ----- \n",
      " 0   C1      514009 non-null  int64 \n",
      " 1   C2      514009 non-null  int64 \n",
      " 2   C3      514009 non-null  int64 \n",
      " 3   N1      514009 non-null  object\n",
      " 4   N2      514009 non-null  object\n",
      " 5   N3      514009 non-null  object\n",
      " 6   N4      514009 non-null  object\n",
      " 7   N5      514009 non-null  object\n",
      " 8   N6      514009 non-null  object\n",
      " 9   N7      514009 non-null  object\n",
      " 10  N8      514009 non-null  object\n",
      " 11  N9      514009 non-null  object\n",
      " 12  N10     514009 non-null  object\n",
      " 13  N11     514009 non-null  object\n",
      " 14  N12     514009 non-null  object\n",
      " 15  N13     514009 non-null  object\n",
      " 16  N14     514009 non-null  int64 \n",
      " 17  N15     514009 non-null  int64 \n",
      " 18  N16     514009 non-null  int64 \n",
      " 19  N17     514009 non-null  int64 \n",
      " 20  N18     514009 non-null  int64 \n",
      " 21  N19     514009 non-null  int64 \n",
      " 22  N20     514009 non-null  int64 \n",
      " 23  N21     514009 non-null  int64 \n",
      " 24  N22     514009 non-null  int64 \n",
      " 25  N23     514009 non-null  int64 \n",
      " 26  TARGET  514009 non-null  int64 \n",
      "dtypes: int64(14), object(13)\n",
      "memory usage: 105.9+ MB\n"
     ]
    }
   ],
   "source": [
    "# check all information about data types, missing data\n",
    "df.info()"
   ]
  },
  {
   "cell_type": "code",
   "execution_count": 5,
   "metadata": {},
   "outputs": [
    {
     "data": {
      "text/plain": [
       "C1        0\n",
       "C2        0\n",
       "C3        0\n",
       "N1        0\n",
       "N2        0\n",
       "N3        0\n",
       "N4        0\n",
       "N5        0\n",
       "N6        0\n",
       "N7        0\n",
       "N8        0\n",
       "N9        0\n",
       "N10       0\n",
       "N11       0\n",
       "N12       0\n",
       "N13       0\n",
       "N14       0\n",
       "N15       0\n",
       "N16       0\n",
       "N17       0\n",
       "N18       0\n",
       "N19       0\n",
       "N20       0\n",
       "N21       0\n",
       "N22       0\n",
       "N23       0\n",
       "TARGET    0\n",
       "dtype: int64"
      ]
     },
     "execution_count": 5,
     "metadata": {},
     "output_type": "execute_result"
    }
   ],
   "source": [
    "# check null values\n",
    "df.isnull().sum()"
   ]
  },
  {
   "cell_type": "markdown",
   "metadata": {},
   "source": [
    "### 4.1 FEATURE ENGINEERING\n",
    "**Working with categorical data**`"
   ]
  },
  {
   "cell_type": "code",
   "execution_count": 6,
   "metadata": {},
   "outputs": [
    {
     "data": {
      "text/plain": [
       "3534393232343231    1\n",
       "3436393330303539    1\n",
       "34383533383630      1\n",
       "3139393936313937    1\n",
       "3134353635393830    1\n",
       "                   ..\n",
       "3436343930313934    1\n",
       "3437383035303235    1\n",
       "3432383733393236    1\n",
       "3334393439343137    1\n",
       "3339363938303634    1\n",
       "Name: C1, Length: 514009, dtype: int64"
      ]
     },
     "execution_count": 6,
     "metadata": {},
     "output_type": "execute_result"
    }
   ],
   "source": [
    "df['C1'].value_counts()"
   ]
  },
  {
   "cell_type": "markdown",
   "metadata": {},
   "source": [
    "It seems to me that this column is similar to the **ID**. I guess we won't be using it for models in the future."
   ]
  },
  {
   "cell_type": "code",
   "execution_count": 7,
   "metadata": {},
   "outputs": [
    {
     "data": {
      "text/html": [
       "<div>\n",
       "<style scoped>\n",
       "    .dataframe tbody tr th:only-of-type {\n",
       "        vertical-align: middle;\n",
       "    }\n",
       "\n",
       "    .dataframe tbody tr th {\n",
       "        vertical-align: top;\n",
       "    }\n",
       "\n",
       "    .dataframe thead th {\n",
       "        text-align: right;\n",
       "    }\n",
       "</style>\n",
       "<table border=\"1\" class=\"dataframe\">\n",
       "  <thead>\n",
       "    <tr style=\"text-align: right;\">\n",
       "      <th></th>\n",
       "      <th>C2</th>\n",
       "      <th>C3</th>\n",
       "      <th>N1</th>\n",
       "      <th>N2</th>\n",
       "      <th>N3</th>\n",
       "      <th>N4</th>\n",
       "      <th>N5</th>\n",
       "      <th>N6</th>\n",
       "      <th>N7</th>\n",
       "      <th>N8</th>\n",
       "      <th>N9</th>\n",
       "      <th>N10</th>\n",
       "      <th>N11</th>\n",
       "      <th>N12</th>\n",
       "      <th>N13</th>\n",
       "      <th>N14</th>\n",
       "      <th>N15</th>\n",
       "      <th>N16</th>\n",
       "      <th>N17</th>\n",
       "      <th>N18</th>\n",
       "      <th>N19</th>\n",
       "      <th>N20</th>\n",
       "      <th>N21</th>\n",
       "      <th>N22</th>\n",
       "      <th>N23</th>\n",
       "      <th>TARGET</th>\n",
       "    </tr>\n",
       "  </thead>\n",
       "  <tbody>\n",
       "    <tr>\n",
       "      <th>0</th>\n",
       "      <td>323531</td>\n",
       "      <td>33</td>\n",
       "      <td>83,74</td>\n",
       "      <td>3172,92</td>\n",
       "      <td>181,48</td>\n",
       "      <td>24,83</td>\n",
       "      <td>9,6</td>\n",
       "      <td>0</td>\n",
       "      <td>0</td>\n",
       "      <td>24,83</td>\n",
       "      <td>9,6</td>\n",
       "      <td>24,83</td>\n",
       "      <td>9,6</td>\n",
       "      <td>0</td>\n",
       "      <td>0</td>\n",
       "      <td>36</td>\n",
       "      <td>7</td>\n",
       "      <td>0</td>\n",
       "      <td>0</td>\n",
       "      <td>36</td>\n",
       "      <td>7</td>\n",
       "      <td>36</td>\n",
       "      <td>7</td>\n",
       "      <td>0</td>\n",
       "      <td>0</td>\n",
       "      <td>0</td>\n",
       "    </tr>\n",
       "  </tbody>\n",
       "</table>\n",
       "</div>"
      ],
      "text/plain": [
       "       C2  C3     N1       N2      N3     N4   N5 N6 N7     N8   N9    N10  \\\n",
       "0  323531  33  83,74  3172,92  181,48  24,83  9,6  0  0  24,83  9,6  24,83   \n",
       "\n",
       "   N11 N12 N13  N14  N15  N16  N17  N18  N19  N20  N21  N22  N23  TARGET  \n",
       "0  9,6   0   0   36    7    0    0   36    7   36    7    0    0       0  "
      ]
     },
     "execution_count": 7,
     "metadata": {},
     "output_type": "execute_result"
    }
   ],
   "source": [
    "df.drop('C1', axis=1, inplace=True)\n",
    "df.head(1)  "
   ]
  },
  {
   "cell_type": "code",
   "execution_count": 8,
   "metadata": {},
   "outputs": [
    {
     "data": {
      "text/plain": [
       "343637    59659\n",
       "343439    57656\n",
       "343433    44158\n",
       "343835    42649\n",
       "343038    41280\n",
       "          ...  \n",
       "313433        2\n",
       "3437          1\n",
       "343336        1\n",
       "353031        1\n",
       "3330          1\n",
       "Name: C2, Length: 64, dtype: int64"
      ]
     },
     "execution_count": 8,
     "metadata": {},
     "output_type": "execute_result"
    }
   ],
   "source": [
    "df['C2'].value_counts()"
   ]
  },
  {
   "cell_type": "code",
   "execution_count": 9,
   "metadata": {},
   "outputs": [],
   "source": [
    "from sklearn.preprocessing import LabelEncoder\n",
    "# Instantiate LabelEncoder\n",
    "le = LabelEncoder()\n",
    "cols = ['C2']\n",
    "# Encode labels of multiple columns at once\n",
    "df[cols] = df[cols].apply(LabelEncoder().fit_transform)"
   ]
  },
  {
   "cell_type": "code",
   "execution_count": 10,
   "metadata": {},
   "outputs": [
    {
     "data": {
      "text/plain": [
       "31    351968\n",
       "33    161996\n",
       "32        45\n",
       "Name: C3, dtype: int64"
      ]
     },
     "execution_count": 10,
     "metadata": {},
     "output_type": "execute_result"
    }
   ],
   "source": [
    "df['C3'].value_counts()"
   ]
  },
  {
   "cell_type": "code",
   "execution_count": 11,
   "metadata": {},
   "outputs": [],
   "source": [
    "# OneHot Encoding\n",
    "# get dummy values for C3\n",
    "df = pd.concat([df, pd.get_dummies(df[\"C3\"], prefix=\"C3\"), ],axis=1,)"
   ]
  },
  {
   "cell_type": "code",
   "execution_count": 12,
   "metadata": {},
   "outputs": [],
   "source": [
    "df.drop(['C3'], axis=1, inplace=True)"
   ]
  },
  {
   "cell_type": "code",
   "execution_count": 13,
   "metadata": {},
   "outputs": [
    {
     "data": {
      "text/html": [
       "<div>\n",
       "<style scoped>\n",
       "    .dataframe tbody tr th:only-of-type {\n",
       "        vertical-align: middle;\n",
       "    }\n",
       "\n",
       "    .dataframe tbody tr th {\n",
       "        vertical-align: top;\n",
       "    }\n",
       "\n",
       "    .dataframe thead th {\n",
       "        text-align: right;\n",
       "    }\n",
       "</style>\n",
       "<table border=\"1\" class=\"dataframe\">\n",
       "  <thead>\n",
       "    <tr style=\"text-align: right;\">\n",
       "      <th></th>\n",
       "      <th>C2</th>\n",
       "      <th>N1</th>\n",
       "      <th>N2</th>\n",
       "      <th>N3</th>\n",
       "      <th>N4</th>\n",
       "      <th>N5</th>\n",
       "      <th>N6</th>\n",
       "      <th>N7</th>\n",
       "      <th>N8</th>\n",
       "      <th>N9</th>\n",
       "      <th>N10</th>\n",
       "      <th>N11</th>\n",
       "      <th>N12</th>\n",
       "      <th>N13</th>\n",
       "      <th>N14</th>\n",
       "      <th>N15</th>\n",
       "      <th>N16</th>\n",
       "      <th>N17</th>\n",
       "      <th>N18</th>\n",
       "      <th>N19</th>\n",
       "      <th>N20</th>\n",
       "      <th>N21</th>\n",
       "      <th>N22</th>\n",
       "      <th>N23</th>\n",
       "      <th>TARGET</th>\n",
       "      <th>C3_31</th>\n",
       "      <th>C3_32</th>\n",
       "      <th>C3_33</th>\n",
       "    </tr>\n",
       "  </thead>\n",
       "  <tbody>\n",
       "    <tr>\n",
       "      <th>0</th>\n",
       "      <td>31</td>\n",
       "      <td>83,74</td>\n",
       "      <td>3172,92</td>\n",
       "      <td>181,48</td>\n",
       "      <td>24,83</td>\n",
       "      <td>9,6</td>\n",
       "      <td>0</td>\n",
       "      <td>0</td>\n",
       "      <td>24,83</td>\n",
       "      <td>9,6</td>\n",
       "      <td>24,83</td>\n",
       "      <td>9,6</td>\n",
       "      <td>0</td>\n",
       "      <td>0</td>\n",
       "      <td>36</td>\n",
       "      <td>7</td>\n",
       "      <td>0</td>\n",
       "      <td>0</td>\n",
       "      <td>36</td>\n",
       "      <td>7</td>\n",
       "      <td>36</td>\n",
       "      <td>7</td>\n",
       "      <td>0</td>\n",
       "      <td>0</td>\n",
       "      <td>0</td>\n",
       "      <td>0</td>\n",
       "      <td>0</td>\n",
       "      <td>1</td>\n",
       "    </tr>\n",
       "    <tr>\n",
       "      <th>1</th>\n",
       "      <td>58</td>\n",
       "      <td>1,46</td>\n",
       "      <td>1273,88</td>\n",
       "      <td>92,11</td>\n",
       "      <td>211,78</td>\n",
       "      <td>28,98</td>\n",
       "      <td>5,75</td>\n",
       "      <td>13,85</td>\n",
       "      <td>206,03</td>\n",
       "      <td>15,13</td>\n",
       "      <td>211,78</td>\n",
       "      <td>28,98</td>\n",
       "      <td>0</td>\n",
       "      <td>0</td>\n",
       "      <td>57</td>\n",
       "      <td>18</td>\n",
       "      <td>5</td>\n",
       "      <td>6</td>\n",
       "      <td>52</td>\n",
       "      <td>12</td>\n",
       "      <td>57</td>\n",
       "      <td>18</td>\n",
       "      <td>0</td>\n",
       "      <td>0</td>\n",
       "      <td>0</td>\n",
       "      <td>1</td>\n",
       "      <td>0</td>\n",
       "      <td>0</td>\n",
       "    </tr>\n",
       "  </tbody>\n",
       "</table>\n",
       "</div>"
      ],
      "text/plain": [
       "   C2     N1       N2      N3      N4     N5    N6     N7      N8     N9  \\\n",
       "0  31  83,74  3172,92  181,48   24,83    9,6     0      0   24,83    9,6   \n",
       "1  58   1,46  1273,88   92,11  211,78  28,98  5,75  13,85  206,03  15,13   \n",
       "\n",
       "      N10    N11 N12 N13  N14  N15  N16  N17  N18  N19  N20  N21  N22  N23  \\\n",
       "0   24,83    9,6   0   0   36    7    0    0   36    7   36    7    0    0   \n",
       "1  211,78  28,98   0   0   57   18    5    6   52   12   57   18    0    0   \n",
       "\n",
       "   TARGET  C3_31  C3_32  C3_33  \n",
       "0       0      0      0      1  \n",
       "1       0      1      0      0  "
      ]
     },
     "execution_count": 13,
     "metadata": {},
     "output_type": "execute_result"
    }
   ],
   "source": [
    "df.head(2)"
   ]
  },
  {
   "cell_type": "code",
   "execution_count": 14,
   "metadata": {},
   "outputs": [],
   "source": [
    "df.drop(['C3_32'], axis=1, inplace=True)"
   ]
  },
  {
   "cell_type": "markdown",
   "metadata": {},
   "source": [
    "### 4.2 FEATURE ENGINEERING \n",
    "**Object to numeric**"
   ]
  },
  {
   "cell_type": "code",
   "execution_count": 15,
   "metadata": {},
   "outputs": [],
   "source": [
    "for col in df.columns[1:14]:\n",
    "    df[col] = df[col].apply(str).str.replace(',', '.')"
   ]
  },
  {
   "cell_type": "code",
   "execution_count": 16,
   "metadata": {},
   "outputs": [],
   "source": [
    "for col in  df.columns[1:14]:\n",
    "    df[col] = pd.to_numeric(df[col], errors='coerce')"
   ]
  },
  {
   "cell_type": "code",
   "execution_count": 17,
   "metadata": {},
   "outputs": [],
   "source": [
    "df['Target'] = df['TARGET']\n",
    "df.drop(['TARGET'], axis=1, inplace=True)\n",
    "df['TARGET'] = df['Target']\n",
    "df.drop(['Target'], axis=1, inplace=True)"
   ]
  },
  {
   "cell_type": "markdown",
   "metadata": {},
   "source": [
    "## EDA"
   ]
  },
  {
   "cell_type": "code",
   "execution_count": 18,
   "metadata": {},
   "outputs": [
    {
     "data": {
      "text/html": [
       "<div>\n",
       "<style scoped>\n",
       "    .dataframe tbody tr th:only-of-type {\n",
       "        vertical-align: middle;\n",
       "    }\n",
       "\n",
       "    .dataframe tbody tr th {\n",
       "        vertical-align: top;\n",
       "    }\n",
       "\n",
       "    .dataframe thead th {\n",
       "        text-align: right;\n",
       "    }\n",
       "</style>\n",
       "<table border=\"1\" class=\"dataframe\">\n",
       "  <thead>\n",
       "    <tr style=\"text-align: right;\">\n",
       "      <th></th>\n",
       "      <th>C2</th>\n",
       "      <th>N1</th>\n",
       "      <th>N2</th>\n",
       "      <th>N3</th>\n",
       "      <th>N4</th>\n",
       "      <th>N5</th>\n",
       "      <th>N6</th>\n",
       "      <th>N7</th>\n",
       "      <th>N8</th>\n",
       "      <th>N9</th>\n",
       "      <th>N10</th>\n",
       "      <th>N11</th>\n",
       "      <th>N12</th>\n",
       "      <th>N13</th>\n",
       "      <th>N14</th>\n",
       "      <th>N15</th>\n",
       "      <th>N16</th>\n",
       "      <th>N17</th>\n",
       "      <th>N18</th>\n",
       "      <th>N19</th>\n",
       "      <th>N20</th>\n",
       "      <th>N21</th>\n",
       "      <th>N22</th>\n",
       "      <th>N23</th>\n",
       "      <th>C3_31</th>\n",
       "      <th>C3_33</th>\n",
       "      <th>TARGET</th>\n",
       "    </tr>\n",
       "  </thead>\n",
       "  <tbody>\n",
       "    <tr>\n",
       "      <th>0</th>\n",
       "      <td>31</td>\n",
       "      <td>83.74</td>\n",
       "      <td>3172.92</td>\n",
       "      <td>181.48</td>\n",
       "      <td>24.83</td>\n",
       "      <td>9.60</td>\n",
       "      <td>0.00</td>\n",
       "      <td>0.00</td>\n",
       "      <td>24.83</td>\n",
       "      <td>9.60</td>\n",
       "      <td>24.83</td>\n",
       "      <td>9.60</td>\n",
       "      <td>0.0</td>\n",
       "      <td>0.0</td>\n",
       "      <td>36</td>\n",
       "      <td>7</td>\n",
       "      <td>0</td>\n",
       "      <td>0</td>\n",
       "      <td>36</td>\n",
       "      <td>7</td>\n",
       "      <td>36</td>\n",
       "      <td>7</td>\n",
       "      <td>0</td>\n",
       "      <td>0</td>\n",
       "      <td>0</td>\n",
       "      <td>1</td>\n",
       "      <td>0</td>\n",
       "    </tr>\n",
       "    <tr>\n",
       "      <th>1</th>\n",
       "      <td>58</td>\n",
       "      <td>1.46</td>\n",
       "      <td>1273.88</td>\n",
       "      <td>92.11</td>\n",
       "      <td>211.78</td>\n",
       "      <td>28.98</td>\n",
       "      <td>5.75</td>\n",
       "      <td>13.85</td>\n",
       "      <td>206.03</td>\n",
       "      <td>15.13</td>\n",
       "      <td>211.78</td>\n",
       "      <td>28.98</td>\n",
       "      <td>0.0</td>\n",
       "      <td>0.0</td>\n",
       "      <td>57</td>\n",
       "      <td>18</td>\n",
       "      <td>5</td>\n",
       "      <td>6</td>\n",
       "      <td>52</td>\n",
       "      <td>12</td>\n",
       "      <td>57</td>\n",
       "      <td>18</td>\n",
       "      <td>0</td>\n",
       "      <td>0</td>\n",
       "      <td>1</td>\n",
       "      <td>0</td>\n",
       "      <td>0</td>\n",
       "    </tr>\n",
       "    <tr>\n",
       "      <th>2</th>\n",
       "      <td>31</td>\n",
       "      <td>0.00</td>\n",
       "      <td>31.95</td>\n",
       "      <td>763.19</td>\n",
       "      <td>48.13</td>\n",
       "      <td>77.22</td>\n",
       "      <td>9.33</td>\n",
       "      <td>4.90</td>\n",
       "      <td>38.80</td>\n",
       "      <td>72.32</td>\n",
       "      <td>48.13</td>\n",
       "      <td>77.22</td>\n",
       "      <td>0.0</td>\n",
       "      <td>0.0</td>\n",
       "      <td>64</td>\n",
       "      <td>24</td>\n",
       "      <td>18</td>\n",
       "      <td>6</td>\n",
       "      <td>46</td>\n",
       "      <td>18</td>\n",
       "      <td>64</td>\n",
       "      <td>24</td>\n",
       "      <td>0</td>\n",
       "      <td>0</td>\n",
       "      <td>0</td>\n",
       "      <td>1</td>\n",
       "      <td>0</td>\n",
       "    </tr>\n",
       "    <tr>\n",
       "      <th>3</th>\n",
       "      <td>49</td>\n",
       "      <td>117.49</td>\n",
       "      <td>529.19</td>\n",
       "      <td>1506.40</td>\n",
       "      <td>127.67</td>\n",
       "      <td>49.30</td>\n",
       "      <td>6.25</td>\n",
       "      <td>0.20</td>\n",
       "      <td>120.07</td>\n",
       "      <td>49.10</td>\n",
       "      <td>127.67</td>\n",
       "      <td>49.30</td>\n",
       "      <td>0.0</td>\n",
       "      <td>0.0</td>\n",
       "      <td>148</td>\n",
       "      <td>57</td>\n",
       "      <td>4</td>\n",
       "      <td>1</td>\n",
       "      <td>142</td>\n",
       "      <td>56</td>\n",
       "      <td>148</td>\n",
       "      <td>57</td>\n",
       "      <td>0</td>\n",
       "      <td>0</td>\n",
       "      <td>1</td>\n",
       "      <td>0</td>\n",
       "      <td>0</td>\n",
       "    </tr>\n",
       "    <tr>\n",
       "      <th>4</th>\n",
       "      <td>58</td>\n",
       "      <td>0.00</td>\n",
       "      <td>38.24</td>\n",
       "      <td>3493.18</td>\n",
       "      <td>389.98</td>\n",
       "      <td>72.78</td>\n",
       "      <td>16.72</td>\n",
       "      <td>4.28</td>\n",
       "      <td>373.27</td>\n",
       "      <td>68.50</td>\n",
       "      <td>389.98</td>\n",
       "      <td>72.78</td>\n",
       "      <td>0.0</td>\n",
       "      <td>0.0</td>\n",
       "      <td>86</td>\n",
       "      <td>28</td>\n",
       "      <td>17</td>\n",
       "      <td>5</td>\n",
       "      <td>69</td>\n",
       "      <td>23</td>\n",
       "      <td>86</td>\n",
       "      <td>28</td>\n",
       "      <td>0</td>\n",
       "      <td>0</td>\n",
       "      <td>1</td>\n",
       "      <td>0</td>\n",
       "      <td>0</td>\n",
       "    </tr>\n",
       "  </tbody>\n",
       "</table>\n",
       "</div>"
      ],
      "text/plain": [
       "   C2      N1       N2       N3      N4     N5     N6     N7      N8     N9  \\\n",
       "0  31   83.74  3172.92   181.48   24.83   9.60   0.00   0.00   24.83   9.60   \n",
       "1  58    1.46  1273.88    92.11  211.78  28.98   5.75  13.85  206.03  15.13   \n",
       "2  31    0.00    31.95   763.19   48.13  77.22   9.33   4.90   38.80  72.32   \n",
       "3  49  117.49   529.19  1506.40  127.67  49.30   6.25   0.20  120.07  49.10   \n",
       "4  58    0.00    38.24  3493.18  389.98  72.78  16.72   4.28  373.27  68.50   \n",
       "\n",
       "      N10    N11  N12  N13  N14  N15  N16  N17  N18  N19  N20  N21  N22  N23  \\\n",
       "0   24.83   9.60  0.0  0.0   36    7    0    0   36    7   36    7    0    0   \n",
       "1  211.78  28.98  0.0  0.0   57   18    5    6   52   12   57   18    0    0   \n",
       "2   48.13  77.22  0.0  0.0   64   24   18    6   46   18   64   24    0    0   \n",
       "3  127.67  49.30  0.0  0.0  148   57    4    1  142   56  148   57    0    0   \n",
       "4  389.98  72.78  0.0  0.0   86   28   17    5   69   23   86   28    0    0   \n",
       "\n",
       "   C3_31  C3_33  TARGET  \n",
       "0      0      1       0  \n",
       "1      1      0       0  \n",
       "2      0      1       0  \n",
       "3      1      0       0  \n",
       "4      1      0       0  "
      ]
     },
     "execution_count": 18,
     "metadata": {},
     "output_type": "execute_result"
    }
   ],
   "source": [
    "df.head()"
   ]
  },
  {
   "cell_type": "code",
   "execution_count": 19,
   "metadata": {},
   "outputs": [
    {
     "data": {
      "image/png": "[encoded data removed]",
      "text/plain": [
       "<Figure size 1440x288 with 1 Axes>"
      ]
     },
     "metadata": {
      "needs_background": "light"
     },
     "output_type": "display_data"
    },
    {
     "data": {
      "image/png": "[encoded data removed]",
      "text/plain": [
       "<Figure size 1440x288 with 1 Axes>"
      ]
     },
     "metadata": {
      "needs_background": "light"
     },
     "output_type": "display_data"
    },
    {
     "data": {
      "image/png": "[encoded data removed]",
      "text/plain": [
       "<Figure size 1440x288 with 1 Axes>"
      ]
     },
     "metadata": {
      "needs_background": "light"
     },
     "output_type": "display_data"
    },
    {
     "data": {
      "image/png": "[encoded data removed]",
      "text/plain": [
       "<Figure size 1440x288 with 1 Axes>"
      ]
     },
     "metadata": {
      "needs_background": "light"
     },
     "output_type": "display_data"
    },
    {
     "data": {
      "image/png": "[encoded data removed]",
      "text/plain": [
       "<Figure size 1440x288 with 1 Axes>"
      ]
     },
     "metadata": {
      "needs_background": "light"
     },
     "output_type": "display_data"
    }
   ],
   "source": [
    "# N1\n",
    "cols = df.columns\n",
    "\n",
    "for col in cols[1:6]:\n",
    "    plt.figure( figsize=(20,4))\n",
    "    sns.boxplot(x=df[col])"
   ]
  },
  {
   "cell_type": "code",
   "execution_count": 20,
   "metadata": {},
   "outputs": [
    {
     "data": {
      "image/png": "[encoded data removed]",
      "text/plain": [
       "<Figure size 1440x288 with 1 Axes>"
      ]
     },
     "metadata": {
      "needs_background": "light"
     },
     "output_type": "display_data"
    },
    {
     "data": {
      "image/png": "[encoded data removed]",
      "text/plain": [
       "<Figure size 1440x288 with 1 Axes>"
      ]
     },
     "metadata": {
      "needs_background": "light"
     },
     "output_type": "display_data"
    },
    {
     "data": {
      "image/png": "[encoded data removed]",
      "text/plain": [
       "<Figure size 1440x288 with 1 Axes>"
      ]
     },
     "metadata": {
      "needs_background": "light"
     },
     "output_type": "display_data"
    },
    {
     "data": {
      "image/png": "[encoded data removed]",
      "text/plain": [
       "<Figure size 1440x288 with 1 Axes>"
      ]
     },
     "metadata": {
      "needs_background": "light"
     },
     "output_type": "display_data"
    },
    {
     "data": {
      "image/png": "[encoded data removed]",
      "text/plain": [
       "<Figure size 1440x288 with 1 Axes>"
      ]
     },
     "metadata": {
      "needs_background": "light"
     },
     "output_type": "display_data"
    },
    {
     "data": {
      "image/png": "[encoded data removed]",
      "text/plain": [
       "<Figure size 1440x288 with 1 Axes>"
      ]
     },
     "metadata": {
      "needs_background": "light"
     },
     "output_type": "display_data"
    }
   ],
   "source": [
    "cols = df.columns\n",
    "\n",
    "for col in cols[6:12]:\n",
    "    plt.figure(figsize=(20,4))\n",
    "    sns.boxplot(x=df[col])"
   ]
  },
  {
   "cell_type": "code",
   "execution_count": 21,
   "metadata": {},
   "outputs": [
    {
     "data": {
      "image/png": "[encoded data removed]",
      "text/plain": [
       "<Figure size 1440x288 with 1 Axes>"
      ]
     },
     "metadata": {
      "needs_background": "light"
     },
     "output_type": "display_data"
    },
    {
     "data": {
      "image/png": "[encoded data removed]",
      "text/plain": [
       "<Figure size 1440x288 with 1 Axes>"
      ]
     },
     "metadata": {
      "needs_background": "light"
     },
     "output_type": "display_data"
    },
    {
     "data": {
      "image/png": "[encoded data removed]",
      "text/plain": [
       "<Figure size 1440x288 with 1 Axes>"
      ]
     },
     "metadata": {
      "needs_background": "light"
     },
     "output_type": "display_data"
    },
    {
     "data": {
      "image/png": "[encoded data removed]",
      "text/plain": [
       "<Figure size 1440x288 with 1 Axes>"
      ]
     },
     "metadata": {
      "needs_background": "light"
     },
     "output_type": "display_data"
    },
    {
     "data": {
      "image/png": "[encoded data removed]",
      "text/plain": [
       "<Figure size 1440x288 with 1 Axes>"
      ]
     },
     "metadata": {
      "needs_background": "light"
     },
     "output_type": "display_data"
    },
    {
     "data": {
      "image/png": "[encoded data removed]",
      "text/plain": [
       "<Figure size 1440x288 with 1 Axes>"
      ]
     },
     "metadata": {
      "needs_background": "light"
     },
     "output_type": "display_data"
    }
   ],
   "source": [
    "## N12 N13\n",
    "cols = df.columns\n",
    "\n",
    "for col in cols[12:18]:\n",
    "    plt.figure(figsize=(20,4))\n",
    "    sns.boxplot(x=df[col])"
   ]
  },
  {
   "cell_type": "code",
   "execution_count": 22,
   "metadata": {},
   "outputs": [
    {
     "data": {
      "image/png": "[encoded data removed]",
      "text/plain": [
       "<Figure size 1440x288 with 1 Axes>"
      ]
     },
     "metadata": {
      "needs_background": "light"
     },
     "output_type": "display_data"
    },
    {
     "data": {
      "image/png": "[encoded data removed]",
      "text/plain": [
       "<Figure size 1440x288 with 1 Axes>"
      ]
     },
     "metadata": {
      "needs_background": "light"
     },
     "output_type": "display_data"
    },
    {
     "data": {
      "image/png": "[encoded data removed]",
      "text/plain": [
       "<Figure size 1440x288 with 1 Axes>"
      ]
     },
     "metadata": {
      "needs_background": "light"
     },
     "output_type": "display_data"
    },
    {
     "data": {
      "image/png": "[encoded data removed]",
      "text/plain": [
       "<Figure size 1440x288 with 1 Axes>"
      ]
     },
     "metadata": {
      "needs_background": "light"
     },
     "output_type": "display_data"
    },
    {
     "data": {
      "image/png": "[encoded data removed]",
      "text/plain": [
       "<Figure size 1440x288 with 1 Axes>"
      ]
     },
     "metadata": {
      "needs_background": "light"
     },
     "output_type": "display_data"
    },
    {
     "data": {
      "image/png": "[encoded data removed]",
      "text/plain": [
       "<Figure size 1440x288 with 1 Axes>"
      ]
     },
     "metadata": {
      "needs_background": "light"
     },
     "output_type": "display_data"
    }
   ],
   "source": [
    "# N22 N23\n",
    "cols = df.columns\n",
    "\n",
    "for col in cols[18:24]:\n",
    "    plt.figure(figsize=(20,4))\n",
    "    sns.boxplot(x=df[col])"
   ]
  },
  {
   "cell_type": "code",
   "execution_count": 23,
   "metadata": {},
   "outputs": [
    {
     "data": {
      "image/png": "[encoded data removed]",
      "text/plain": [
       "<Figure size 1008x2880 with 4 Axes>"
      ]
     },
     "metadata": {},
     "output_type": "display_data"
    }
   ],
   "source": [
    "#Here we use subplot and loop to create a graph\n",
    "plt.figure(figsize = (14,40))\n",
    "plt.suptitle('Percent distribution of values', size=16)\n",
    "\n",
    "# cols = df.columns.values.tolist()\n",
    "# cols = cols[3:-1]\n",
    "cols = ['N12', 'N13', 'N22', 'N23']\n",
    "\n",
    "n = 1 \n",
    "while n != len(cols)+1:\n",
    "    \n",
    "    uniq = df.groupby(cols[n-1], as_index=False).count().iloc[:, [0,-1]]\n",
    "    uniq['percent'] = [(i/len(df[cols[n-1]]))*100 for i in uniq['TARGET']]\n",
    "    \n",
    "    uniq[cols[n-1]] = [str(i) for i in uniq[cols[n-1]]]\n",
    "    \n",
    "    for i in range(len(uniq)):\n",
    "        if uniq['percent'][i] < 1:\n",
    "            uniq.at[i, cols[n-1]] = 'other'\n",
    "    \n",
    "    uniq = uniq.groupby(cols[n-1], as_index=False).sum()\n",
    "    \n",
    "    plt.subplot(13,2,n)\n",
    "    plt.pie(uniq['TARGET'], \n",
    "            labels = uniq[cols[n-1]],\n",
    "            autopct='%1.1f%%',\n",
    "            shadow=False, \n",
    "            startangle=0)\n",
    "    plt.title(cols[n-1], size = 14)\n",
    "    n+=1\n",
    "\n",
    "plt.tight_layout(rect=[0, 0, 1, 0.98])"
   ]
  },
  {
   "cell_type": "code",
   "execution_count": 24,
   "metadata": {},
   "outputs": [],
   "source": [
    "df = df.drop(['N12', 'N13', 'N22', 'N3'], axis = 1)"
   ]
  },
  {
   "cell_type": "code",
   "execution_count": 25,
   "metadata": {},
   "outputs": [
    {
     "data": {
      "text/html": [
       "<div>\n",
       "<style scoped>\n",
       "    .dataframe tbody tr th:only-of-type {\n",
       "        vertical-align: middle;\n",
       "    }\n",
       "\n",
       "    .dataframe tbody tr th {\n",
       "        vertical-align: top;\n",
       "    }\n",
       "\n",
       "    .dataframe thead th {\n",
       "        text-align: right;\n",
       "    }\n",
       "</style>\n",
       "<table border=\"1\" class=\"dataframe\">\n",
       "  <thead>\n",
       "    <tr style=\"text-align: right;\">\n",
       "      <th></th>\n",
       "      <th>C2</th>\n",
       "      <th>N1</th>\n",
       "      <th>N2</th>\n",
       "      <th>N4</th>\n",
       "      <th>N5</th>\n",
       "      <th>N6</th>\n",
       "      <th>N7</th>\n",
       "      <th>N8</th>\n",
       "      <th>N9</th>\n",
       "      <th>N10</th>\n",
       "      <th>N11</th>\n",
       "      <th>N14</th>\n",
       "      <th>N15</th>\n",
       "      <th>N16</th>\n",
       "      <th>N17</th>\n",
       "      <th>N18</th>\n",
       "      <th>N19</th>\n",
       "      <th>N20</th>\n",
       "      <th>N21</th>\n",
       "      <th>N23</th>\n",
       "      <th>C3_31</th>\n",
       "      <th>C3_33</th>\n",
       "      <th>TARGET</th>\n",
       "    </tr>\n",
       "  </thead>\n",
       "  <tbody>\n",
       "    <tr>\n",
       "      <th>0</th>\n",
       "      <td>31</td>\n",
       "      <td>83.74</td>\n",
       "      <td>3172.92</td>\n",
       "      <td>24.83</td>\n",
       "      <td>9.60</td>\n",
       "      <td>0.00</td>\n",
       "      <td>0.00</td>\n",
       "      <td>24.83</td>\n",
       "      <td>9.60</td>\n",
       "      <td>24.83</td>\n",
       "      <td>9.60</td>\n",
       "      <td>36</td>\n",
       "      <td>7</td>\n",
       "      <td>0</td>\n",
       "      <td>0</td>\n",
       "      <td>36</td>\n",
       "      <td>7</td>\n",
       "      <td>36</td>\n",
       "      <td>7</td>\n",
       "      <td>0</td>\n",
       "      <td>0</td>\n",
       "      <td>1</td>\n",
       "      <td>0</td>\n",
       "    </tr>\n",
       "    <tr>\n",
       "      <th>1</th>\n",
       "      <td>58</td>\n",
       "      <td>1.46</td>\n",
       "      <td>1273.88</td>\n",
       "      <td>211.78</td>\n",
       "      <td>28.98</td>\n",
       "      <td>5.75</td>\n",
       "      <td>13.85</td>\n",
       "      <td>206.03</td>\n",
       "      <td>15.13</td>\n",
       "      <td>211.78</td>\n",
       "      <td>28.98</td>\n",
       "      <td>57</td>\n",
       "      <td>18</td>\n",
       "      <td>5</td>\n",
       "      <td>6</td>\n",
       "      <td>52</td>\n",
       "      <td>12</td>\n",
       "      <td>57</td>\n",
       "      <td>18</td>\n",
       "      <td>0</td>\n",
       "      <td>1</td>\n",
       "      <td>0</td>\n",
       "      <td>0</td>\n",
       "    </tr>\n",
       "    <tr>\n",
       "      <th>2</th>\n",
       "      <td>31</td>\n",
       "      <td>0.00</td>\n",
       "      <td>31.95</td>\n",
       "      <td>48.13</td>\n",
       "      <td>77.22</td>\n",
       "      <td>9.33</td>\n",
       "      <td>4.90</td>\n",
       "      <td>38.80</td>\n",
       "      <td>72.32</td>\n",
       "      <td>48.13</td>\n",
       "      <td>77.22</td>\n",
       "      <td>64</td>\n",
       "      <td>24</td>\n",
       "      <td>18</td>\n",
       "      <td>6</td>\n",
       "      <td>46</td>\n",
       "      <td>18</td>\n",
       "      <td>64</td>\n",
       "      <td>24</td>\n",
       "      <td>0</td>\n",
       "      <td>0</td>\n",
       "      <td>1</td>\n",
       "      <td>0</td>\n",
       "    </tr>\n",
       "    <tr>\n",
       "      <th>3</th>\n",
       "      <td>49</td>\n",
       "      <td>117.49</td>\n",
       "      <td>529.19</td>\n",
       "      <td>127.67</td>\n",
       "      <td>49.30</td>\n",
       "      <td>6.25</td>\n",
       "      <td>0.20</td>\n",
       "      <td>120.07</td>\n",
       "      <td>49.10</td>\n",
       "      <td>127.67</td>\n",
       "      <td>49.30</td>\n",
       "      <td>148</td>\n",
       "      <td>57</td>\n",
       "      <td>4</td>\n",
       "      <td>1</td>\n",
       "      <td>142</td>\n",
       "      <td>56</td>\n",
       "      <td>148</td>\n",
       "      <td>57</td>\n",
       "      <td>0</td>\n",
       "      <td>1</td>\n",
       "      <td>0</td>\n",
       "      <td>0</td>\n",
       "    </tr>\n",
       "    <tr>\n",
       "      <th>4</th>\n",
       "      <td>58</td>\n",
       "      <td>0.00</td>\n",
       "      <td>38.24</td>\n",
       "      <td>389.98</td>\n",
       "      <td>72.78</td>\n",
       "      <td>16.72</td>\n",
       "      <td>4.28</td>\n",
       "      <td>373.27</td>\n",
       "      <td>68.50</td>\n",
       "      <td>389.98</td>\n",
       "      <td>72.78</td>\n",
       "      <td>86</td>\n",
       "      <td>28</td>\n",
       "      <td>17</td>\n",
       "      <td>5</td>\n",
       "      <td>69</td>\n",
       "      <td>23</td>\n",
       "      <td>86</td>\n",
       "      <td>28</td>\n",
       "      <td>0</td>\n",
       "      <td>1</td>\n",
       "      <td>0</td>\n",
       "      <td>0</td>\n",
       "    </tr>\n",
       "  </tbody>\n",
       "</table>\n",
       "</div>"
      ],
      "text/plain": [
       "   C2      N1       N2      N4     N5     N6     N7      N8     N9     N10  \\\n",
       "0  31   83.74  3172.92   24.83   9.60   0.00   0.00   24.83   9.60   24.83   \n",
       "1  58    1.46  1273.88  211.78  28.98   5.75  13.85  206.03  15.13  211.78   \n",
       "2  31    0.00    31.95   48.13  77.22   9.33   4.90   38.80  72.32   48.13   \n",
       "3  49  117.49   529.19  127.67  49.30   6.25   0.20  120.07  49.10  127.67   \n",
       "4  58    0.00    38.24  389.98  72.78  16.72   4.28  373.27  68.50  389.98   \n",
       "\n",
       "     N11  N14  N15  N16  N17  N18  N19  N20  N21  N23  C3_31  C3_33  TARGET  \n",
       "0   9.60   36    7    0    0   36    7   36    7    0      0      1       0  \n",
       "1  28.98   57   18    5    6   52   12   57   18    0      1      0       0  \n",
       "2  77.22   64   24   18    6   46   18   64   24    0      0      1       0  \n",
       "3  49.30  148   57    4    1  142   56  148   57    0      1      0       0  \n",
       "4  72.78   86   28   17    5   69   23   86   28    0      1      0       0  "
      ]
     },
     "execution_count": 25,
     "metadata": {},
     "output_type": "execute_result"
    }
   ],
   "source": [
    "df.head()"
   ]
  },
  {
   "cell_type": "code",
   "execution_count": 26,
   "metadata": {},
   "outputs": [
    {
     "name": "stdout",
     "output_type": "stream",
     "text": [
      "0    488665\n",
      "1     25344\n",
      "Name: TARGET, dtype: int64\n"
     ]
    },
    {
     "data": {
      "image/png": "[encoded data removed]",
      "text/plain": [
       "<Figure size 432x288 with 1 Axes>"
      ]
     },
     "metadata": {},
     "output_type": "display_data"
    },
    {
     "name": "stdout",
     "output_type": "stream",
     "text": [
      "In percents: \n",
      "0    0.951\n",
      "1    0.049\n",
      "Name: TARGET, dtype: float64\n"
     ]
    }
   ],
   "source": [
    "print(df['TARGET'].value_counts())\n",
    "sns.set(style='darkgrid')\n",
    "sns.countplot(x = 'TARGET',\n",
    "              data = df,\n",
    "              order = df['TARGET'].value_counts().index)\n",
    "plt.show()\n",
    "print(\"In percents: \")\n",
    "print(round(1. *df['TARGET'].value_counts() / len(df['TARGET']), 3))"
   ]
  },
  {
   "cell_type": "code",
   "execution_count": 27,
   "metadata": {},
   "outputs": [],
   "source": [
    "from imblearn.over_sampling import SMOTE"
   ]
  },
  {
   "cell_type": "code",
   "execution_count": 28,
   "metadata": {},
   "outputs": [],
   "source": [
    "y = df[\"TARGET\"]\n",
    "X = df.drop(labels=[\"TARGET\"],axis = 1)\n",
    "\n",
    "smote = SMOTE(random_state=42)\n",
    "X_sm, y_sm = smote.fit_sample(X, y)"
   ]
  },
  {
   "cell_type": "code",
   "execution_count": 29,
   "metadata": {},
   "outputs": [],
   "source": [
    "from sklearn.preprocessing import MinMaxScaler\n",
    "X = pd.DataFrame(MinMaxScaler().fit_transform(X))"
   ]
  },
  {
   "cell_type": "code",
   "execution_count": 30,
   "metadata": {},
   "outputs": [],
   "source": [
    "from sklearn import metrics\n",
    "\n",
    "X_train, X_test, y_train, y_test = train_test_split(X_sm, y_sm, test_size=0.20, random_state=42)"
   ]
  },
  {
   "cell_type": "code",
   "execution_count": 31,
   "metadata": {},
   "outputs": [
    {
     "data": {
      "text/plain": [
       "RandomForestClassifier(max_depth=8, random_state=42)"
      ]
     },
     "execution_count": 31,
     "metadata": {},
     "output_type": "execute_result"
    }
   ],
   "source": [
    "from sklearn.metrics import accuracy_score,recall_score,confusion_matrix, classification_report, plot_confusion_matrix\n",
    "from sklearn.ensemble import RandomForestClassifier\n",
    "\n",
    "rfc = RandomForestClassifier(max_depth=8, random_state=42)\n",
    "\n",
    "rfc.fit(X_train,y_train)"
   ]
  },
  {
   "cell_type": "code",
   "execution_count": 32,
   "metadata": {},
   "outputs": [],
   "source": [
    "pred_test = rfc.predict(X_test)"
   ]
  },
  {
   "cell_type": "code",
   "execution_count": 33,
   "metadata": {},
   "outputs": [
    {
     "name": "stdout",
     "output_type": "stream",
     "text": [
      "Train:  0.8521712215935252\n",
      "Test:  0.8498869368585841\n",
      "              precision    recall  f1-score   support\n",
      "\n",
      "           0       0.84      0.86      0.85     97518\n",
      "           1       0.86      0.84      0.85     97948\n",
      "\n",
      "    accuracy                           0.85    195466\n",
      "   macro avg       0.85      0.85      0.85    195466\n",
      "weighted avg       0.85      0.85      0.85    195466\n",
      "\n"
     ]
    },
    {
     "data": {
      "text/plain": [
       "array([[83878, 13640],\n",
       "       [15702, 82246]], dtype=int64)"
      ]
     },
     "execution_count": 33,
     "metadata": {},
     "output_type": "execute_result"
    },
    {
     "data": {
      "image/png": "[encoded data removed]",
      "text/plain": [
       "<Figure size 432x288 with 2 Axes>"
      ]
     },
     "metadata": {},
     "output_type": "display_data"
    }
   ],
   "source": [
    "# creating a confusion matrix\n",
    "cm = confusion_matrix(y_test, pred_test)\n",
    "print(\"Train: \",rfc.score(X_train, y_train))\n",
    "print(\"Test: \", rfc.score(X_test, y_test))\n",
    "print(classification_report(y_test,  pred_test))\n",
    "plot_confusion_matrix(rfc, X_test, y_test, values_format = '')\n",
    "cm"
   ]
  },
  {
   "cell_type": "code",
   "execution_count": 34,
   "metadata": {},
   "outputs": [
    {
     "name": "stdout",
     "output_type": "stream",
     "text": [
      "Accuracy: 0.8498869368585841\n",
      "Precision: 0.8577477421104228\n",
      "Recall: 0.8396904479928126\n",
      "F1-score 0.8486230485879671\n"
     ]
    }
   ],
   "source": [
    "print(\"Accuracy:\",metrics.accuracy_score(y_test, pred_test))\n",
    "print(\"Precision:\",metrics.precision_score(y_test, pred_test))\n",
    "print(\"Recall:\",metrics.recall_score(y_test, pred_test))\n",
    "print(\"F1-score\", metrics.f1_score(y_test, pred_test))"
   ]
  },
  {
   "cell_type": "code",
   "execution_count": 35,
   "metadata": {},
   "outputs": [
    {
     "data": {
      "image/png": "[encoded data removed]",
      "text/plain": [
       "<Figure size 432x288 with 1 Axes>"
      ]
     },
     "metadata": {},
     "output_type": "display_data"
    },
    {
     "name": "stdout",
     "output_type": "stream",
     "text": [
      "ROC-AUC: 0.8499094172735449\n"
     ]
    }
   ],
   "source": [
    "y_pred_proba = rfc.predict_proba(X_test)[::,1]\n",
    "fpr, tpr, _ = metrics.roc_curve(y_test,  pred_test)\n",
    "auc = metrics.roc_auc_score(y_test, pred_test)\n",
    "plt.plot(fpr,tpr,label=\"auc=\"+str(auc))\n",
    "plt.legend(loc=4)\n",
    "plt.show()\n",
    "print('ROC-AUC:', auc) # 74 output"
   ]
  },
  {
   "cell_type": "markdown",
   "metadata": {},
   "source": [
    "## DecisionTreeClassifier"
   ]
  },
  {
   "cell_type": "code",
   "execution_count": 36,
   "metadata": {},
   "outputs": [
    {
     "data": {
      "text/plain": [
       "DecisionTreeClassifier(max_depth=7, random_state=42)"
      ]
     },
     "execution_count": 36,
     "metadata": {},
     "output_type": "execute_result"
    }
   ],
   "source": [
    "from sklearn.tree import DecisionTreeClassifier\n",
    "dtc = DecisionTreeClassifier(max_depth=7, random_state=42)\n",
    "\n",
    "dtc.fit(X_train,y_train)"
   ]
  },
  {
   "cell_type": "code",
   "execution_count": 37,
   "metadata": {},
   "outputs": [],
   "source": [
    "pred_test = dtc.predict(X_test)"
   ]
  },
  {
   "cell_type": "code",
   "execution_count": 38,
   "metadata": {},
   "outputs": [
    {
     "name": "stdout",
     "output_type": "stream",
     "text": [
      "Train:  0.839739392017026\n",
      "Test:  0.8376597464520684\n",
      "              precision    recall  f1-score   support\n",
      "\n",
      "           0       0.82      0.86      0.84     97518\n",
      "           1       0.85      0.82      0.83     97948\n",
      "\n",
      "    accuracy                           0.84    195466\n",
      "   macro avg       0.84      0.84      0.84    195466\n",
      "weighted avg       0.84      0.84      0.84    195466\n",
      "\n"
     ]
    },
    {
     "data": {
      "text/plain": [
       "array([[83505, 14013],\n",
       "       [17719, 80229]], dtype=int64)"
      ]
     },
     "execution_count": 38,
     "metadata": {},
     "output_type": "execute_result"
    },
    {
     "data": {
      "image/png": "[encoded data removed]",
      "text/plain": [
       "<Figure size 432x288 with 2 Axes>"
      ]
     },
     "metadata": {},
     "output_type": "display_data"
    }
   ],
   "source": [
    "# creating a confusion matrix\n",
    "cm = confusion_matrix(y_test, pred_test)\n",
    "print(\"Train: \",dtc.score(X_train, y_train))\n",
    "print(\"Test: \", dtc.score(X_test, y_test))\n",
    "print(classification_report(y_test,  pred_test))\n",
    "plot_confusion_matrix(dtc, X_test, y_test, values_format = '')\n",
    "cm"
   ]
  },
  {
   "cell_type": "code",
   "execution_count": 39,
   "metadata": {},
   "outputs": [
    {
     "name": "stdout",
     "output_type": "stream",
     "text": [
      "Accuracy: 0.8376597464520684\n",
      "Precision: 0.8513083338638824\n",
      "Recall: 0.8190978886756238\n",
      "F1-score 0.8348925542431969\n"
     ]
    }
   ],
   "source": [
    "print(\"Accuracy:\",metrics.accuracy_score(y_test, pred_test))\n",
    "print(\"Precision:\",metrics.precision_score(y_test, pred_test))\n",
    "print(\"Recall:\",metrics.recall_score(y_test, pred_test))\n",
    "print(\"F1-score\", metrics.f1_score(y_test, pred_test))"
   ]
  },
  {
   "cell_type": "code",
   "execution_count": 40,
   "metadata": {},
   "outputs": [
    {
     "data": {
      "image/png": "[encoded data removed]",
      "text/plain": [
       "<Figure size 432x288 with 1 Axes>"
      ]
     },
     "metadata": {},
     "output_type": "display_data"
    },
    {
     "name": "stdout",
     "output_type": "stream",
     "text": [
      "ROC-AUC: 0.8377006701730424\n"
     ]
    }
   ],
   "source": [
    "y_pred_proba = dtc.predict_proba(X_test)[::,1]\n",
    "fpr, tpr, _ = metrics.roc_curve(y_test,  pred_test)\n",
    "auc = metrics.roc_auc_score(y_test, pred_test)\n",
    "plt.plot(fpr,tpr,label=\"auc=\"+str(auc))\n",
    "plt.legend(loc=4)\n",
    "plt.show()\n",
    "print('ROC-AUC:', auc)"
   ]
  },
  {
   "cell_type": "code",
   "execution_count": 41,
   "metadata": {},
   "outputs": [
    {
     "name": "stdout",
     "output_type": "stream",
     "text": [
      "KFold not Stratified\n",
      "472843 15822\n",
      "341598 147067\n",
      "162889 325776\n",
      "StratifiedKFold\n",
      "325777 162888\n",
      "325776 162889\n",
      "325777 162888\n"
     ]
    }
   ],
   "source": [
    "from sklearn.model_selection import KFold, StratifiedKFold, cross_val_score\n",
    "cv = KFold(n_splits=3)\n",
    "scv = StratifiedKFold(n_splits=3)\n",
    "# Examine the positive label in train and test folds\n",
    "print('KFold not Stratified')\n",
    "for train_idx, test_idx in cv.split(y_sm):\n",
    "    print(y_sm[train_idx].sum(), y_sm[test_idx].sum())\n",
    "\n",
    "print('StratifiedKFold')\n",
    "for train_idx, test_idx in scv.split(X_sm, y_sm):\n",
    "    print(y_sm[train_idx].sum(), y_sm[test_idx].sum())"
   ]
  },
  {
   "cell_type": "code",
   "execution_count": 42,
   "metadata": {},
   "outputs": [
    {
     "data": {
      "text/html": [
       "<div>\n",
       "<style scoped>\n",
       "    .dataframe tbody tr th:only-of-type {\n",
       "        vertical-align: middle;\n",
       "    }\n",
       "\n",
       "    .dataframe tbody tr th {\n",
       "        vertical-align: top;\n",
       "    }\n",
       "\n",
       "    .dataframe thead th {\n",
       "        text-align: right;\n",
       "    }\n",
       "</style>\n",
       "<table border=\"1\" class=\"dataframe\">\n",
       "  <thead>\n",
       "    <tr style=\"text-align: right;\">\n",
       "      <th></th>\n",
       "      <th>Random</th>\n",
       "      <th>Stratified</th>\n",
       "    </tr>\n",
       "  </thead>\n",
       "  <tbody>\n",
       "    <tr>\n",
       "      <th>f1</th>\n",
       "      <td>0.723505</td>\n",
       "      <td>0.915125</td>\n",
       "    </tr>\n",
       "    <tr>\n",
       "      <th>precision</th>\n",
       "      <td>0.691418</td>\n",
       "      <td>0.895921</td>\n",
       "    </tr>\n",
       "    <tr>\n",
       "      <th>recall</th>\n",
       "      <td>0.870376</td>\n",
       "      <td>0.935375</td>\n",
       "    </tr>\n",
       "    <tr>\n",
       "      <th>accuracy</th>\n",
       "      <td>0.88219</td>\n",
       "      <td>0.913358</td>\n",
       "    </tr>\n",
       "  </tbody>\n",
       "</table>\n",
       "</div>"
      ],
      "text/plain": [
       "             Random Stratified\n",
       "f1         0.723505   0.915125\n",
       "precision  0.691418   0.895921\n",
       "recall     0.870376   0.935375\n",
       "accuracy    0.88219   0.913358"
      ]
     },
     "execution_count": 42,
     "metadata": {},
     "output_type": "execute_result"
    }
   ],
   "source": [
    "from sklearn.tree import DecisionTreeClassifier\n",
    "from sklearn.ensemble import RandomForestClassifier\n",
    "from sklearn.naive_bayes import GaussianNB\n",
    "from sklearn.svm import SVC\n",
    "from sklearn import linear_model\n",
    "# clf = GaussianNB()\n",
    "# clf = linear_model.LogisticRegression()\n",
    "# clf = RandomForestClassifier(n_estimators=5, random_state=42)\n",
    "clf = DecisionTreeClassifier()\n",
    "# clf = SVC(probability=True, random_state=42)\n",
    "metric_names = ['f1', 'precision', 'recall', 'accuracy']\n",
    "# metric_names = ['accuracy']\n",
    "\n",
    "scores_df = pd.DataFrame(index=metric_names, columns=['Random', 'Stratified'])\n",
    "for metric in metric_names:\n",
    "    score1 = cross_val_score(clf, X_sm, y_sm, scoring=metric, cv=cv).mean()\n",
    "    score2 = cross_val_score(clf, X_sm, y_sm, scoring=metric, cv=scv).mean()\n",
    "    scores_df.loc[metric] = [score1, score2]\n",
    "scores_df"
   ]
  },
  {
   "cell_type": "code",
   "execution_count": null,
   "metadata": {},
   "outputs": [],
   "source": [
    "    "
   ]
  }
 ],
 "metadata": {
  "kernelspec": {
   "display_name": "Python 3",
   "language": "python",
   "name": "python3"
  },
  "language_info": {
   "codemirror_mode": {
    "name": "ipython",
    "version": 3
   },
   "file_extension": ".py",
   "mimetype": "text/x-python",
   "name": "python",
   "nbconvert_exporter": "python",
   "pygments_lexer": "ipython3",
   "version": "3.8.3"
  }
 },
 "nbformat": 4,
 "nbformat_minor": 4
}
